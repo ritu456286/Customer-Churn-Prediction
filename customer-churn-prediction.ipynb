{
 "cells": [
  {
   "cell_type": "code",
   "execution_count": 1,
   "id": "9fca50e1",
   "metadata": {
    "_cell_guid": "b1076dfc-b9ad-4769-8c92-a6c4dae69d19",
    "_uuid": "8f2839f25d086af736a60e9eeb907d3b93b6e0e5",
    "execution": {
     "iopub.execute_input": "2024-08-23T18:18:36.245522Z",
     "iopub.status.busy": "2024-08-23T18:18:36.245130Z",
     "iopub.status.idle": "2024-08-23T18:18:37.069751Z",
     "shell.execute_reply": "2024-08-23T18:18:37.068590Z"
    },
    "papermill": {
     "duration": 0.841358,
     "end_time": "2024-08-23T18:18:37.072937",
     "exception": false,
     "start_time": "2024-08-23T18:18:36.231579",
     "status": "completed"
    },
    "tags": []
   },
   "outputs": [
    {
     "name": "stdout",
     "output_type": "stream",
     "text": [
      "/kaggle/input/telco-customer-churn/WA_Fn-UseC_-Telco-Customer-Churn.csv\n"
     ]
    }
   ],
   "source": [
    "# This Python 3 environment comes with many helpful analytics libraries installed\n",
    "# It is defined by the kaggle/python Docker image: https://github.com/kaggle/docker-python\n",
    "# For example, here's several helpful packages to load\n",
    "\n",
    "import numpy as np # linear algebra\n",
    "import pandas as pd # data processing, CSV file I/O (e.g. pd.read_csv)\n",
    "import matplotlib.pyplot as plt\n",
    "# Input data files are available in the read-only \"../input/\" directory\n",
    "# For example, running this (by clicking run or pressing Shift+Enter) will list all files under the input directory\n",
    "\n",
    "import os\n",
    "for dirname, _, filenames in os.walk('/kaggle/input'):\n",
    "    for filename in filenames:\n",
    "        print(os.path.join(dirname, filename))\n",
    "\n",
    "# You can write up to 20GB to the current directory (/kaggle/working/) that gets preserved as output when you create a version using \"Save & Run All\" \n",
    "# You can also write temporary files to /kaggle/temp/, but they won't be saved outside of the current session"
   ]
  },
  {
   "cell_type": "markdown",
   "id": "f734a47a",
   "metadata": {
    "papermill": {
     "duration": 0.011623,
     "end_time": "2024-08-23T18:18:37.096860",
     "exception": false,
     "start_time": "2024-08-23T18:18:37.085237",
     "status": "completed"
    },
    "tags": []
   },
   "source": [
    "# Customer Churn Prediction"
   ]
  },
  {
   "cell_type": "code",
   "execution_count": 2,
   "id": "9853bbac",
   "metadata": {
    "execution": {
     "iopub.execute_input": "2024-08-23T18:18:37.122173Z",
     "iopub.status.busy": "2024-08-23T18:18:37.121675Z",
     "iopub.status.idle": "2024-08-23T18:18:37.226643Z",
     "shell.execute_reply": "2024-08-23T18:18:37.225380Z"
    },
    "papermill": {
     "duration": 0.120207,
     "end_time": "2024-08-23T18:18:37.228944",
     "exception": false,
     "start_time": "2024-08-23T18:18:37.108737",
     "status": "completed"
    },
    "tags": []
   },
   "outputs": [
    {
     "data": {
      "text/html": [
       "<div>\n",
       "<style scoped>\n",
       "    .dataframe tbody tr th:only-of-type {\n",
       "        vertical-align: middle;\n",
       "    }\n",
       "\n",
       "    .dataframe tbody tr th {\n",
       "        vertical-align: top;\n",
       "    }\n",
       "\n",
       "    .dataframe thead th {\n",
       "        text-align: right;\n",
       "    }\n",
       "</style>\n",
       "<table border=\"1\" class=\"dataframe\">\n",
       "  <thead>\n",
       "    <tr style=\"text-align: right;\">\n",
       "      <th></th>\n",
       "      <th>customerID</th>\n",
       "      <th>gender</th>\n",
       "      <th>SeniorCitizen</th>\n",
       "      <th>Partner</th>\n",
       "      <th>Dependents</th>\n",
       "      <th>tenure</th>\n",
       "      <th>PhoneService</th>\n",
       "      <th>MultipleLines</th>\n",
       "      <th>InternetService</th>\n",
       "      <th>OnlineSecurity</th>\n",
       "      <th>...</th>\n",
       "      <th>DeviceProtection</th>\n",
       "      <th>TechSupport</th>\n",
       "      <th>StreamingTV</th>\n",
       "      <th>StreamingMovies</th>\n",
       "      <th>Contract</th>\n",
       "      <th>PaperlessBilling</th>\n",
       "      <th>PaymentMethod</th>\n",
       "      <th>MonthlyCharges</th>\n",
       "      <th>TotalCharges</th>\n",
       "      <th>Churn</th>\n",
       "    </tr>\n",
       "  </thead>\n",
       "  <tbody>\n",
       "    <tr>\n",
       "      <th>0</th>\n",
       "      <td>7590-VHVEG</td>\n",
       "      <td>Female</td>\n",
       "      <td>0</td>\n",
       "      <td>Yes</td>\n",
       "      <td>No</td>\n",
       "      <td>1</td>\n",
       "      <td>No</td>\n",
       "      <td>No phone service</td>\n",
       "      <td>DSL</td>\n",
       "      <td>No</td>\n",
       "      <td>...</td>\n",
       "      <td>No</td>\n",
       "      <td>No</td>\n",
       "      <td>No</td>\n",
       "      <td>No</td>\n",
       "      <td>Month-to-month</td>\n",
       "      <td>Yes</td>\n",
       "      <td>Electronic check</td>\n",
       "      <td>29.85</td>\n",
       "      <td>29.85</td>\n",
       "      <td>No</td>\n",
       "    </tr>\n",
       "    <tr>\n",
       "      <th>1</th>\n",
       "      <td>5575-GNVDE</td>\n",
       "      <td>Male</td>\n",
       "      <td>0</td>\n",
       "      <td>No</td>\n",
       "      <td>No</td>\n",
       "      <td>34</td>\n",
       "      <td>Yes</td>\n",
       "      <td>No</td>\n",
       "      <td>DSL</td>\n",
       "      <td>Yes</td>\n",
       "      <td>...</td>\n",
       "      <td>Yes</td>\n",
       "      <td>No</td>\n",
       "      <td>No</td>\n",
       "      <td>No</td>\n",
       "      <td>One year</td>\n",
       "      <td>No</td>\n",
       "      <td>Mailed check</td>\n",
       "      <td>56.95</td>\n",
       "      <td>1889.5</td>\n",
       "      <td>No</td>\n",
       "    </tr>\n",
       "    <tr>\n",
       "      <th>2</th>\n",
       "      <td>3668-QPYBK</td>\n",
       "      <td>Male</td>\n",
       "      <td>0</td>\n",
       "      <td>No</td>\n",
       "      <td>No</td>\n",
       "      <td>2</td>\n",
       "      <td>Yes</td>\n",
       "      <td>No</td>\n",
       "      <td>DSL</td>\n",
       "      <td>Yes</td>\n",
       "      <td>...</td>\n",
       "      <td>No</td>\n",
       "      <td>No</td>\n",
       "      <td>No</td>\n",
       "      <td>No</td>\n",
       "      <td>Month-to-month</td>\n",
       "      <td>Yes</td>\n",
       "      <td>Mailed check</td>\n",
       "      <td>53.85</td>\n",
       "      <td>108.15</td>\n",
       "      <td>Yes</td>\n",
       "    </tr>\n",
       "    <tr>\n",
       "      <th>3</th>\n",
       "      <td>7795-CFOCW</td>\n",
       "      <td>Male</td>\n",
       "      <td>0</td>\n",
       "      <td>No</td>\n",
       "      <td>No</td>\n",
       "      <td>45</td>\n",
       "      <td>No</td>\n",
       "      <td>No phone service</td>\n",
       "      <td>DSL</td>\n",
       "      <td>Yes</td>\n",
       "      <td>...</td>\n",
       "      <td>Yes</td>\n",
       "      <td>Yes</td>\n",
       "      <td>No</td>\n",
       "      <td>No</td>\n",
       "      <td>One year</td>\n",
       "      <td>No</td>\n",
       "      <td>Bank transfer (automatic)</td>\n",
       "      <td>42.30</td>\n",
       "      <td>1840.75</td>\n",
       "      <td>No</td>\n",
       "    </tr>\n",
       "    <tr>\n",
       "      <th>4</th>\n",
       "      <td>9237-HQITU</td>\n",
       "      <td>Female</td>\n",
       "      <td>0</td>\n",
       "      <td>No</td>\n",
       "      <td>No</td>\n",
       "      <td>2</td>\n",
       "      <td>Yes</td>\n",
       "      <td>No</td>\n",
       "      <td>Fiber optic</td>\n",
       "      <td>No</td>\n",
       "      <td>...</td>\n",
       "      <td>No</td>\n",
       "      <td>No</td>\n",
       "      <td>No</td>\n",
       "      <td>No</td>\n",
       "      <td>Month-to-month</td>\n",
       "      <td>Yes</td>\n",
       "      <td>Electronic check</td>\n",
       "      <td>70.70</td>\n",
       "      <td>151.65</td>\n",
       "      <td>Yes</td>\n",
       "    </tr>\n",
       "    <tr>\n",
       "      <th>...</th>\n",
       "      <td>...</td>\n",
       "      <td>...</td>\n",
       "      <td>...</td>\n",
       "      <td>...</td>\n",
       "      <td>...</td>\n",
       "      <td>...</td>\n",
       "      <td>...</td>\n",
       "      <td>...</td>\n",
       "      <td>...</td>\n",
       "      <td>...</td>\n",
       "      <td>...</td>\n",
       "      <td>...</td>\n",
       "      <td>...</td>\n",
       "      <td>...</td>\n",
       "      <td>...</td>\n",
       "      <td>...</td>\n",
       "      <td>...</td>\n",
       "      <td>...</td>\n",
       "      <td>...</td>\n",
       "      <td>...</td>\n",
       "      <td>...</td>\n",
       "    </tr>\n",
       "    <tr>\n",
       "      <th>7038</th>\n",
       "      <td>6840-RESVB</td>\n",
       "      <td>Male</td>\n",
       "      <td>0</td>\n",
       "      <td>Yes</td>\n",
       "      <td>Yes</td>\n",
       "      <td>24</td>\n",
       "      <td>Yes</td>\n",
       "      <td>Yes</td>\n",
       "      <td>DSL</td>\n",
       "      <td>Yes</td>\n",
       "      <td>...</td>\n",
       "      <td>Yes</td>\n",
       "      <td>Yes</td>\n",
       "      <td>Yes</td>\n",
       "      <td>Yes</td>\n",
       "      <td>One year</td>\n",
       "      <td>Yes</td>\n",
       "      <td>Mailed check</td>\n",
       "      <td>84.80</td>\n",
       "      <td>1990.5</td>\n",
       "      <td>No</td>\n",
       "    </tr>\n",
       "    <tr>\n",
       "      <th>7039</th>\n",
       "      <td>2234-XADUH</td>\n",
       "      <td>Female</td>\n",
       "      <td>0</td>\n",
       "      <td>Yes</td>\n",
       "      <td>Yes</td>\n",
       "      <td>72</td>\n",
       "      <td>Yes</td>\n",
       "      <td>Yes</td>\n",
       "      <td>Fiber optic</td>\n",
       "      <td>No</td>\n",
       "      <td>...</td>\n",
       "      <td>Yes</td>\n",
       "      <td>No</td>\n",
       "      <td>Yes</td>\n",
       "      <td>Yes</td>\n",
       "      <td>One year</td>\n",
       "      <td>Yes</td>\n",
       "      <td>Credit card (automatic)</td>\n",
       "      <td>103.20</td>\n",
       "      <td>7362.9</td>\n",
       "      <td>No</td>\n",
       "    </tr>\n",
       "    <tr>\n",
       "      <th>7040</th>\n",
       "      <td>4801-JZAZL</td>\n",
       "      <td>Female</td>\n",
       "      <td>0</td>\n",
       "      <td>Yes</td>\n",
       "      <td>Yes</td>\n",
       "      <td>11</td>\n",
       "      <td>No</td>\n",
       "      <td>No phone service</td>\n",
       "      <td>DSL</td>\n",
       "      <td>Yes</td>\n",
       "      <td>...</td>\n",
       "      <td>No</td>\n",
       "      <td>No</td>\n",
       "      <td>No</td>\n",
       "      <td>No</td>\n",
       "      <td>Month-to-month</td>\n",
       "      <td>Yes</td>\n",
       "      <td>Electronic check</td>\n",
       "      <td>29.60</td>\n",
       "      <td>346.45</td>\n",
       "      <td>No</td>\n",
       "    </tr>\n",
       "    <tr>\n",
       "      <th>7041</th>\n",
       "      <td>8361-LTMKD</td>\n",
       "      <td>Male</td>\n",
       "      <td>1</td>\n",
       "      <td>Yes</td>\n",
       "      <td>No</td>\n",
       "      <td>4</td>\n",
       "      <td>Yes</td>\n",
       "      <td>Yes</td>\n",
       "      <td>Fiber optic</td>\n",
       "      <td>No</td>\n",
       "      <td>...</td>\n",
       "      <td>No</td>\n",
       "      <td>No</td>\n",
       "      <td>No</td>\n",
       "      <td>No</td>\n",
       "      <td>Month-to-month</td>\n",
       "      <td>Yes</td>\n",
       "      <td>Mailed check</td>\n",
       "      <td>74.40</td>\n",
       "      <td>306.6</td>\n",
       "      <td>Yes</td>\n",
       "    </tr>\n",
       "    <tr>\n",
       "      <th>7042</th>\n",
       "      <td>3186-AJIEK</td>\n",
       "      <td>Male</td>\n",
       "      <td>0</td>\n",
       "      <td>No</td>\n",
       "      <td>No</td>\n",
       "      <td>66</td>\n",
       "      <td>Yes</td>\n",
       "      <td>No</td>\n",
       "      <td>Fiber optic</td>\n",
       "      <td>Yes</td>\n",
       "      <td>...</td>\n",
       "      <td>Yes</td>\n",
       "      <td>Yes</td>\n",
       "      <td>Yes</td>\n",
       "      <td>Yes</td>\n",
       "      <td>Two year</td>\n",
       "      <td>Yes</td>\n",
       "      <td>Bank transfer (automatic)</td>\n",
       "      <td>105.65</td>\n",
       "      <td>6844.5</td>\n",
       "      <td>No</td>\n",
       "    </tr>\n",
       "  </tbody>\n",
       "</table>\n",
       "<p>7043 rows × 21 columns</p>\n",
       "</div>"
      ],
      "text/plain": [
       "      customerID  gender  SeniorCitizen Partner Dependents  tenure  \\\n",
       "0     7590-VHVEG  Female              0     Yes         No       1   \n",
       "1     5575-GNVDE    Male              0      No         No      34   \n",
       "2     3668-QPYBK    Male              0      No         No       2   \n",
       "3     7795-CFOCW    Male              0      No         No      45   \n",
       "4     9237-HQITU  Female              0      No         No       2   \n",
       "...          ...     ...            ...     ...        ...     ...   \n",
       "7038  6840-RESVB    Male              0     Yes        Yes      24   \n",
       "7039  2234-XADUH  Female              0     Yes        Yes      72   \n",
       "7040  4801-JZAZL  Female              0     Yes        Yes      11   \n",
       "7041  8361-LTMKD    Male              1     Yes         No       4   \n",
       "7042  3186-AJIEK    Male              0      No         No      66   \n",
       "\n",
       "     PhoneService     MultipleLines InternetService OnlineSecurity  ...  \\\n",
       "0              No  No phone service             DSL             No  ...   \n",
       "1             Yes                No             DSL            Yes  ...   \n",
       "2             Yes                No             DSL            Yes  ...   \n",
       "3              No  No phone service             DSL            Yes  ...   \n",
       "4             Yes                No     Fiber optic             No  ...   \n",
       "...           ...               ...             ...            ...  ...   \n",
       "7038          Yes               Yes             DSL            Yes  ...   \n",
       "7039          Yes               Yes     Fiber optic             No  ...   \n",
       "7040           No  No phone service             DSL            Yes  ...   \n",
       "7041          Yes               Yes     Fiber optic             No  ...   \n",
       "7042          Yes                No     Fiber optic            Yes  ...   \n",
       "\n",
       "     DeviceProtection TechSupport StreamingTV StreamingMovies        Contract  \\\n",
       "0                  No          No          No              No  Month-to-month   \n",
       "1                 Yes          No          No              No        One year   \n",
       "2                  No          No          No              No  Month-to-month   \n",
       "3                 Yes         Yes          No              No        One year   \n",
       "4                  No          No          No              No  Month-to-month   \n",
       "...               ...         ...         ...             ...             ...   \n",
       "7038              Yes         Yes         Yes             Yes        One year   \n",
       "7039              Yes          No         Yes             Yes        One year   \n",
       "7040               No          No          No              No  Month-to-month   \n",
       "7041               No          No          No              No  Month-to-month   \n",
       "7042              Yes         Yes         Yes             Yes        Two year   \n",
       "\n",
       "     PaperlessBilling              PaymentMethod MonthlyCharges  TotalCharges  \\\n",
       "0                 Yes           Electronic check          29.85         29.85   \n",
       "1                  No               Mailed check          56.95        1889.5   \n",
       "2                 Yes               Mailed check          53.85        108.15   \n",
       "3                  No  Bank transfer (automatic)          42.30       1840.75   \n",
       "4                 Yes           Electronic check          70.70        151.65   \n",
       "...               ...                        ...            ...           ...   \n",
       "7038              Yes               Mailed check          84.80        1990.5   \n",
       "7039              Yes    Credit card (automatic)         103.20        7362.9   \n",
       "7040              Yes           Electronic check          29.60        346.45   \n",
       "7041              Yes               Mailed check          74.40         306.6   \n",
       "7042              Yes  Bank transfer (automatic)         105.65        6844.5   \n",
       "\n",
       "     Churn  \n",
       "0       No  \n",
       "1       No  \n",
       "2      Yes  \n",
       "3       No  \n",
       "4      Yes  \n",
       "...    ...  \n",
       "7038    No  \n",
       "7039    No  \n",
       "7040    No  \n",
       "7041   Yes  \n",
       "7042    No  \n",
       "\n",
       "[7043 rows x 21 columns]"
      ]
     },
     "execution_count": 2,
     "metadata": {},
     "output_type": "execute_result"
    }
   ],
   "source": [
    "df = pd.read_csv('../input/telco-customer-churn/WA_Fn-UseC_-Telco-Customer-Churn.csv')\n",
    "df"
   ]
  },
  {
   "cell_type": "markdown",
   "id": "eeff11ae",
   "metadata": {
    "papermill": {
     "duration": 0.012897,
     "end_time": "2024-08-23T18:18:37.254200",
     "exception": false,
     "start_time": "2024-08-23T18:18:37.241303",
     "status": "completed"
    },
    "tags": []
   },
   "source": [
    "## Data Preprocessing"
   ]
  },
  {
   "cell_type": "markdown",
   "id": "8e3449f7",
   "metadata": {
    "papermill": {
     "duration": 0.012197,
     "end_time": "2024-08-23T18:18:37.278773",
     "exception": false,
     "start_time": "2024-08-23T18:18:37.266576",
     "status": "completed"
    },
    "tags": []
   },
   "source": [
    "**Finding if any NAN values are present**"
   ]
  },
  {
   "cell_type": "code",
   "execution_count": 3,
   "id": "880f3faa",
   "metadata": {
    "execution": {
     "iopub.execute_input": "2024-08-23T18:18:37.305252Z",
     "iopub.status.busy": "2024-08-23T18:18:37.304890Z",
     "iopub.status.idle": "2024-08-23T18:18:37.320996Z",
     "shell.execute_reply": "2024-08-23T18:18:37.319904Z"
    },
    "papermill": {
     "duration": 0.032163,
     "end_time": "2024-08-23T18:18:37.323355",
     "exception": false,
     "start_time": "2024-08-23T18:18:37.291192",
     "status": "completed"
    },
    "tags": []
   },
   "outputs": [
    {
     "data": {
      "text/plain": [
       "customerID          0\n",
       "gender              0\n",
       "SeniorCitizen       0\n",
       "Partner             0\n",
       "Dependents          0\n",
       "tenure              0\n",
       "PhoneService        0\n",
       "MultipleLines       0\n",
       "InternetService     0\n",
       "OnlineSecurity      0\n",
       "OnlineBackup        0\n",
       "DeviceProtection    0\n",
       "TechSupport         0\n",
       "StreamingTV         0\n",
       "StreamingMovies     0\n",
       "Contract            0\n",
       "PaperlessBilling    0\n",
       "PaymentMethod       0\n",
       "MonthlyCharges      0\n",
       "TotalCharges        0\n",
       "Churn               0\n",
       "dtype: int64"
      ]
     },
     "execution_count": 3,
     "metadata": {},
     "output_type": "execute_result"
    }
   ],
   "source": [
    "df.isnull().sum()"
   ]
  },
  {
   "cell_type": "markdown",
   "id": "cc1e9e19",
   "metadata": {
    "papermill": {
     "duration": 0.01215,
     "end_time": "2024-08-23T18:18:37.348360",
     "exception": false,
     "start_time": "2024-08-23T18:18:37.336210",
     "status": "completed"
    },
    "tags": []
   },
   "source": [
    "**Printing unique values in columns having object datatypes**"
   ]
  },
  {
   "cell_type": "code",
   "execution_count": 4,
   "id": "47de4db1",
   "metadata": {
    "execution": {
     "iopub.execute_input": "2024-08-23T18:18:37.377355Z",
     "iopub.status.busy": "2024-08-23T18:18:37.376062Z",
     "iopub.status.idle": "2024-08-23T18:18:37.398292Z",
     "shell.execute_reply": "2024-08-23T18:18:37.397124Z"
    },
    "papermill": {
     "duration": 0.03977,
     "end_time": "2024-08-23T18:18:37.401016",
     "exception": false,
     "start_time": "2024-08-23T18:18:37.361246",
     "status": "completed"
    },
    "tags": []
   },
   "outputs": [
    {
     "name": "stdout",
     "output_type": "stream",
     "text": [
      "customerID : ['7590-VHVEG' '5575-GNVDE' '3668-QPYBK' ... '4801-JZAZL' '8361-LTMKD'\n",
      " '3186-AJIEK']\n",
      "\n",
      "gender : ['Female' 'Male']\n",
      "\n",
      "Partner : ['Yes' 'No']\n",
      "\n",
      "Dependents : ['No' 'Yes']\n",
      "\n",
      "PhoneService : ['No' 'Yes']\n",
      "\n",
      "MultipleLines : ['No phone service' 'No' 'Yes']\n",
      "\n",
      "InternetService : ['DSL' 'Fiber optic' 'No']\n",
      "\n",
      "OnlineSecurity : ['No' 'Yes' 'No internet service']\n",
      "\n",
      "OnlineBackup : ['Yes' 'No' 'No internet service']\n",
      "\n",
      "DeviceProtection : ['No' 'Yes' 'No internet service']\n",
      "\n",
      "TechSupport : ['No' 'Yes' 'No internet service']\n",
      "\n",
      "StreamingTV : ['No' 'Yes' 'No internet service']\n",
      "\n",
      "StreamingMovies : ['No' 'Yes' 'No internet service']\n",
      "\n",
      "Contract : ['Month-to-month' 'One year' 'Two year']\n",
      "\n",
      "PaperlessBilling : ['Yes' 'No']\n",
      "\n",
      "PaymentMethod : ['Electronic check' 'Mailed check' 'Bank transfer (automatic)'\n",
      " 'Credit card (automatic)']\n",
      "\n",
      "TotalCharges : ['29.85' '1889.5' '108.15' ... '346.45' '306.6' '6844.5']\n",
      "\n",
      "Churn : ['No' 'Yes']\n",
      "\n"
     ]
    }
   ],
   "source": [
    "## Method 1\n",
    "# for col in df.select_dtypes(include=['object']).columns:\n",
    "#     print(f\"Unique values in column '{col}':\")\n",
    "#     print(df[col].unique())\n",
    "#     print(\"\\n\")\n",
    "\n",
    "## Method 2\n",
    "def print_unique_vals():    \n",
    "    for col in df.columns:\n",
    "        if(df[col].dtypes == 'object'):\n",
    "            print(f'{col} : {df[col].unique()}')\n",
    "            print()\n",
    "print_unique_vals()"
   ]
  },
  {
   "cell_type": "markdown",
   "id": "45456d01",
   "metadata": {
    "papermill": {
     "duration": 0.012262,
     "end_time": "2024-08-23T18:18:37.425934",
     "exception": false,
     "start_time": "2024-08-23T18:18:37.413672",
     "status": "completed"
    },
    "tags": []
   },
   "source": [
    "**Deleting Customer ID as it is not necessary.**"
   ]
  },
  {
   "cell_type": "code",
   "execution_count": 5,
   "id": "d16e57d4",
   "metadata": {
    "execution": {
     "iopub.execute_input": "2024-08-23T18:18:37.454294Z",
     "iopub.status.busy": "2024-08-23T18:18:37.453634Z",
     "iopub.status.idle": "2024-08-23T18:18:37.462294Z",
     "shell.execute_reply": "2024-08-23T18:18:37.461301Z"
    },
    "papermill": {
     "duration": 0.025085,
     "end_time": "2024-08-23T18:18:37.464949",
     "exception": false,
     "start_time": "2024-08-23T18:18:37.439864",
     "status": "completed"
    },
    "tags": []
   },
   "outputs": [
    {
     "name": "stdout",
     "output_type": "stream",
     "text": [
      "gender\n",
      "SeniorCitizen\n",
      "Partner\n",
      "Dependents\n",
      "tenure\n",
      "PhoneService\n",
      "MultipleLines\n",
      "InternetService\n",
      "OnlineSecurity\n",
      "OnlineBackup\n",
      "DeviceProtection\n",
      "TechSupport\n",
      "StreamingTV\n",
      "StreamingMovies\n",
      "Contract\n",
      "PaperlessBilling\n",
      "PaymentMethod\n",
      "MonthlyCharges\n",
      "TotalCharges\n",
      "Churn\n"
     ]
    }
   ],
   "source": [
    "if('customerID' in df.columns):\n",
    "    df.drop('customerID', axis='columns', inplace=True)\n",
    "\n",
    "for col in df.columns:\n",
    "    print(col)"
   ]
  },
  {
   "cell_type": "code",
   "execution_count": 6,
   "id": "49068c06",
   "metadata": {
    "execution": {
     "iopub.execute_input": "2024-08-23T18:18:37.492418Z",
     "iopub.status.busy": "2024-08-23T18:18:37.491485Z",
     "iopub.status.idle": "2024-08-23T18:18:37.517051Z",
     "shell.execute_reply": "2024-08-23T18:18:37.516152Z"
    },
    "papermill": {
     "duration": 0.042105,
     "end_time": "2024-08-23T18:18:37.519704",
     "exception": false,
     "start_time": "2024-08-23T18:18:37.477599",
     "status": "completed"
    },
    "tags": []
   },
   "outputs": [],
   "source": [
    "df.replace('No internet service', 'No', inplace=True)\n",
    "df.replace('No phone service', 'No', inplace=True)"
   ]
  },
  {
   "cell_type": "code",
   "execution_count": 7,
   "id": "e7304ada",
   "metadata": {
    "execution": {
     "iopub.execute_input": "2024-08-23T18:18:37.547775Z",
     "iopub.status.busy": "2024-08-23T18:18:37.547044Z",
     "iopub.status.idle": "2024-08-23T18:18:37.564266Z",
     "shell.execute_reply": "2024-08-23T18:18:37.563214Z"
    },
    "papermill": {
     "duration": 0.034303,
     "end_time": "2024-08-23T18:18:37.566732",
     "exception": false,
     "start_time": "2024-08-23T18:18:37.532429",
     "status": "completed"
    },
    "tags": []
   },
   "outputs": [
    {
     "name": "stdout",
     "output_type": "stream",
     "text": [
      "gender : ['Female' 'Male']\n",
      "\n",
      "Partner : ['Yes' 'No']\n",
      "\n",
      "Dependents : ['No' 'Yes']\n",
      "\n",
      "PhoneService : ['No' 'Yes']\n",
      "\n",
      "MultipleLines : ['No' 'Yes']\n",
      "\n",
      "InternetService : ['DSL' 'Fiber optic' 'No']\n",
      "\n",
      "OnlineSecurity : ['No' 'Yes']\n",
      "\n",
      "OnlineBackup : ['Yes' 'No']\n",
      "\n",
      "DeviceProtection : ['No' 'Yes']\n",
      "\n",
      "TechSupport : ['No' 'Yes']\n",
      "\n",
      "StreamingTV : ['No' 'Yes']\n",
      "\n",
      "StreamingMovies : ['No' 'Yes']\n",
      "\n",
      "Contract : ['Month-to-month' 'One year' 'Two year']\n",
      "\n",
      "PaperlessBilling : ['Yes' 'No']\n",
      "\n",
      "PaymentMethod : ['Electronic check' 'Mailed check' 'Bank transfer (automatic)'\n",
      " 'Credit card (automatic)']\n",
      "\n",
      "TotalCharges : ['29.85' '1889.5' '108.15' ... '346.45' '306.6' '6844.5']\n",
      "\n",
      "Churn : ['No' 'Yes']\n",
      "\n"
     ]
    }
   ],
   "source": [
    "print_unique_vals()"
   ]
  },
  {
   "cell_type": "code",
   "execution_count": 8,
   "id": "3355c16d",
   "metadata": {
    "execution": {
     "iopub.execute_input": "2024-08-23T18:18:37.594085Z",
     "iopub.status.busy": "2024-08-23T18:18:37.593456Z",
     "iopub.status.idle": "2024-08-23T18:18:37.616247Z",
     "shell.execute_reply": "2024-08-23T18:18:37.615031Z"
    },
    "papermill": {
     "duration": 0.038991,
     "end_time": "2024-08-23T18:18:37.618560",
     "exception": false,
     "start_time": "2024-08-23T18:18:37.579569",
     "status": "completed"
    },
    "tags": []
   },
   "outputs": [
    {
     "name": "stdout",
     "output_type": "stream",
     "text": [
      "<class 'pandas.core.frame.DataFrame'>\n",
      "RangeIndex: 7043 entries, 0 to 7042\n",
      "Data columns (total 20 columns):\n",
      " #   Column            Non-Null Count  Dtype  \n",
      "---  ------            --------------  -----  \n",
      " 0   gender            7043 non-null   object \n",
      " 1   SeniorCitizen     7043 non-null   int64  \n",
      " 2   Partner           7043 non-null   object \n",
      " 3   Dependents        7043 non-null   object \n",
      " 4   tenure            7043 non-null   int64  \n",
      " 5   PhoneService      7043 non-null   object \n",
      " 6   MultipleLines     7043 non-null   object \n",
      " 7   InternetService   7043 non-null   object \n",
      " 8   OnlineSecurity    7043 non-null   object \n",
      " 9   OnlineBackup      7043 non-null   object \n",
      " 10  DeviceProtection  7043 non-null   object \n",
      " 11  TechSupport       7043 non-null   object \n",
      " 12  StreamingTV       7043 non-null   object \n",
      " 13  StreamingMovies   7043 non-null   object \n",
      " 14  Contract          7043 non-null   object \n",
      " 15  PaperlessBilling  7043 non-null   object \n",
      " 16  PaymentMethod     7043 non-null   object \n",
      " 17  MonthlyCharges    7043 non-null   float64\n",
      " 18  TotalCharges      7043 non-null   object \n",
      " 19  Churn             7043 non-null   object \n",
      "dtypes: float64(1), int64(2), object(17)\n",
      "memory usage: 1.1+ MB\n"
     ]
    }
   ],
   "source": [
    "df.info()"
   ]
  },
  {
   "cell_type": "code",
   "execution_count": 9,
   "id": "f98abfa1",
   "metadata": {
    "execution": {
     "iopub.execute_input": "2024-08-23T18:18:37.645800Z",
     "iopub.status.busy": "2024-08-23T18:18:37.645436Z",
     "iopub.status.idle": "2024-08-23T18:18:37.669824Z",
     "shell.execute_reply": "2024-08-23T18:18:37.668630Z"
    },
    "papermill": {
     "duration": 0.040805,
     "end_time": "2024-08-23T18:18:37.672065",
     "exception": false,
     "start_time": "2024-08-23T18:18:37.631260",
     "status": "completed"
    },
    "tags": []
   },
   "outputs": [
    {
     "data": {
      "text/html": [
       "<div>\n",
       "<style scoped>\n",
       "    .dataframe tbody tr th:only-of-type {\n",
       "        vertical-align: middle;\n",
       "    }\n",
       "\n",
       "    .dataframe tbody tr th {\n",
       "        vertical-align: top;\n",
       "    }\n",
       "\n",
       "    .dataframe thead th {\n",
       "        text-align: right;\n",
       "    }\n",
       "</style>\n",
       "<table border=\"1\" class=\"dataframe\">\n",
       "  <thead>\n",
       "    <tr style=\"text-align: right;\">\n",
       "      <th></th>\n",
       "      <th>gender</th>\n",
       "      <th>SeniorCitizen</th>\n",
       "      <th>Partner</th>\n",
       "      <th>Dependents</th>\n",
       "      <th>tenure</th>\n",
       "      <th>PhoneService</th>\n",
       "      <th>MultipleLines</th>\n",
       "      <th>InternetService</th>\n",
       "      <th>OnlineSecurity</th>\n",
       "      <th>OnlineBackup</th>\n",
       "      <th>DeviceProtection</th>\n",
       "      <th>TechSupport</th>\n",
       "      <th>StreamingTV</th>\n",
       "      <th>StreamingMovies</th>\n",
       "      <th>Contract</th>\n",
       "      <th>PaperlessBilling</th>\n",
       "      <th>PaymentMethod</th>\n",
       "      <th>MonthlyCharges</th>\n",
       "      <th>TotalCharges</th>\n",
       "      <th>Churn</th>\n",
       "    </tr>\n",
       "  </thead>\n",
       "  <tbody>\n",
       "    <tr>\n",
       "      <th>488</th>\n",
       "      <td>Female</td>\n",
       "      <td>0</td>\n",
       "      <td>Yes</td>\n",
       "      <td>Yes</td>\n",
       "      <td>0</td>\n",
       "      <td>No</td>\n",
       "      <td>No</td>\n",
       "      <td>DSL</td>\n",
       "      <td>Yes</td>\n",
       "      <td>No</td>\n",
       "      <td>Yes</td>\n",
       "      <td>Yes</td>\n",
       "      <td>Yes</td>\n",
       "      <td>No</td>\n",
       "      <td>Two year</td>\n",
       "      <td>Yes</td>\n",
       "      <td>Bank transfer (automatic)</td>\n",
       "      <td>52.55</td>\n",
       "      <td></td>\n",
       "      <td>No</td>\n",
       "    </tr>\n",
       "    <tr>\n",
       "      <th>753</th>\n",
       "      <td>Male</td>\n",
       "      <td>0</td>\n",
       "      <td>No</td>\n",
       "      <td>Yes</td>\n",
       "      <td>0</td>\n",
       "      <td>Yes</td>\n",
       "      <td>No</td>\n",
       "      <td>No</td>\n",
       "      <td>No</td>\n",
       "      <td>No</td>\n",
       "      <td>No</td>\n",
       "      <td>No</td>\n",
       "      <td>No</td>\n",
       "      <td>No</td>\n",
       "      <td>Two year</td>\n",
       "      <td>No</td>\n",
       "      <td>Mailed check</td>\n",
       "      <td>20.25</td>\n",
       "      <td></td>\n",
       "      <td>No</td>\n",
       "    </tr>\n",
       "    <tr>\n",
       "      <th>936</th>\n",
       "      <td>Female</td>\n",
       "      <td>0</td>\n",
       "      <td>Yes</td>\n",
       "      <td>Yes</td>\n",
       "      <td>0</td>\n",
       "      <td>Yes</td>\n",
       "      <td>No</td>\n",
       "      <td>DSL</td>\n",
       "      <td>Yes</td>\n",
       "      <td>Yes</td>\n",
       "      <td>Yes</td>\n",
       "      <td>No</td>\n",
       "      <td>Yes</td>\n",
       "      <td>Yes</td>\n",
       "      <td>Two year</td>\n",
       "      <td>No</td>\n",
       "      <td>Mailed check</td>\n",
       "      <td>80.85</td>\n",
       "      <td></td>\n",
       "      <td>No</td>\n",
       "    </tr>\n",
       "    <tr>\n",
       "      <th>1082</th>\n",
       "      <td>Male</td>\n",
       "      <td>0</td>\n",
       "      <td>Yes</td>\n",
       "      <td>Yes</td>\n",
       "      <td>0</td>\n",
       "      <td>Yes</td>\n",
       "      <td>Yes</td>\n",
       "      <td>No</td>\n",
       "      <td>No</td>\n",
       "      <td>No</td>\n",
       "      <td>No</td>\n",
       "      <td>No</td>\n",
       "      <td>No</td>\n",
       "      <td>No</td>\n",
       "      <td>Two year</td>\n",
       "      <td>No</td>\n",
       "      <td>Mailed check</td>\n",
       "      <td>25.75</td>\n",
       "      <td></td>\n",
       "      <td>No</td>\n",
       "    </tr>\n",
       "    <tr>\n",
       "      <th>1340</th>\n",
       "      <td>Female</td>\n",
       "      <td>0</td>\n",
       "      <td>Yes</td>\n",
       "      <td>Yes</td>\n",
       "      <td>0</td>\n",
       "      <td>No</td>\n",
       "      <td>No</td>\n",
       "      <td>DSL</td>\n",
       "      <td>Yes</td>\n",
       "      <td>Yes</td>\n",
       "      <td>Yes</td>\n",
       "      <td>Yes</td>\n",
       "      <td>Yes</td>\n",
       "      <td>No</td>\n",
       "      <td>Two year</td>\n",
       "      <td>No</td>\n",
       "      <td>Credit card (automatic)</td>\n",
       "      <td>56.05</td>\n",
       "      <td></td>\n",
       "      <td>No</td>\n",
       "    </tr>\n",
       "    <tr>\n",
       "      <th>3331</th>\n",
       "      <td>Male</td>\n",
       "      <td>0</td>\n",
       "      <td>Yes</td>\n",
       "      <td>Yes</td>\n",
       "      <td>0</td>\n",
       "      <td>Yes</td>\n",
       "      <td>No</td>\n",
       "      <td>No</td>\n",
       "      <td>No</td>\n",
       "      <td>No</td>\n",
       "      <td>No</td>\n",
       "      <td>No</td>\n",
       "      <td>No</td>\n",
       "      <td>No</td>\n",
       "      <td>Two year</td>\n",
       "      <td>No</td>\n",
       "      <td>Mailed check</td>\n",
       "      <td>19.85</td>\n",
       "      <td></td>\n",
       "      <td>No</td>\n",
       "    </tr>\n",
       "    <tr>\n",
       "      <th>3826</th>\n",
       "      <td>Male</td>\n",
       "      <td>0</td>\n",
       "      <td>Yes</td>\n",
       "      <td>Yes</td>\n",
       "      <td>0</td>\n",
       "      <td>Yes</td>\n",
       "      <td>Yes</td>\n",
       "      <td>No</td>\n",
       "      <td>No</td>\n",
       "      <td>No</td>\n",
       "      <td>No</td>\n",
       "      <td>No</td>\n",
       "      <td>No</td>\n",
       "      <td>No</td>\n",
       "      <td>Two year</td>\n",
       "      <td>No</td>\n",
       "      <td>Mailed check</td>\n",
       "      <td>25.35</td>\n",
       "      <td></td>\n",
       "      <td>No</td>\n",
       "    </tr>\n",
       "    <tr>\n",
       "      <th>4380</th>\n",
       "      <td>Female</td>\n",
       "      <td>0</td>\n",
       "      <td>Yes</td>\n",
       "      <td>Yes</td>\n",
       "      <td>0</td>\n",
       "      <td>Yes</td>\n",
       "      <td>No</td>\n",
       "      <td>No</td>\n",
       "      <td>No</td>\n",
       "      <td>No</td>\n",
       "      <td>No</td>\n",
       "      <td>No</td>\n",
       "      <td>No</td>\n",
       "      <td>No</td>\n",
       "      <td>Two year</td>\n",
       "      <td>No</td>\n",
       "      <td>Mailed check</td>\n",
       "      <td>20.00</td>\n",
       "      <td></td>\n",
       "      <td>No</td>\n",
       "    </tr>\n",
       "    <tr>\n",
       "      <th>5218</th>\n",
       "      <td>Male</td>\n",
       "      <td>0</td>\n",
       "      <td>Yes</td>\n",
       "      <td>Yes</td>\n",
       "      <td>0</td>\n",
       "      <td>Yes</td>\n",
       "      <td>No</td>\n",
       "      <td>No</td>\n",
       "      <td>No</td>\n",
       "      <td>No</td>\n",
       "      <td>No</td>\n",
       "      <td>No</td>\n",
       "      <td>No</td>\n",
       "      <td>No</td>\n",
       "      <td>One year</td>\n",
       "      <td>Yes</td>\n",
       "      <td>Mailed check</td>\n",
       "      <td>19.70</td>\n",
       "      <td></td>\n",
       "      <td>No</td>\n",
       "    </tr>\n",
       "    <tr>\n",
       "      <th>6670</th>\n",
       "      <td>Female</td>\n",
       "      <td>0</td>\n",
       "      <td>Yes</td>\n",
       "      <td>Yes</td>\n",
       "      <td>0</td>\n",
       "      <td>Yes</td>\n",
       "      <td>Yes</td>\n",
       "      <td>DSL</td>\n",
       "      <td>No</td>\n",
       "      <td>Yes</td>\n",
       "      <td>Yes</td>\n",
       "      <td>Yes</td>\n",
       "      <td>Yes</td>\n",
       "      <td>No</td>\n",
       "      <td>Two year</td>\n",
       "      <td>No</td>\n",
       "      <td>Mailed check</td>\n",
       "      <td>73.35</td>\n",
       "      <td></td>\n",
       "      <td>No</td>\n",
       "    </tr>\n",
       "    <tr>\n",
       "      <th>6754</th>\n",
       "      <td>Male</td>\n",
       "      <td>0</td>\n",
       "      <td>No</td>\n",
       "      <td>Yes</td>\n",
       "      <td>0</td>\n",
       "      <td>Yes</td>\n",
       "      <td>Yes</td>\n",
       "      <td>DSL</td>\n",
       "      <td>Yes</td>\n",
       "      <td>Yes</td>\n",
       "      <td>No</td>\n",
       "      <td>Yes</td>\n",
       "      <td>No</td>\n",
       "      <td>No</td>\n",
       "      <td>Two year</td>\n",
       "      <td>Yes</td>\n",
       "      <td>Bank transfer (automatic)</td>\n",
       "      <td>61.90</td>\n",
       "      <td></td>\n",
       "      <td>No</td>\n",
       "    </tr>\n",
       "  </tbody>\n",
       "</table>\n",
       "</div>"
      ],
      "text/plain": [
       "      gender  SeniorCitizen Partner Dependents  tenure PhoneService  \\\n",
       "488   Female              0     Yes        Yes       0           No   \n",
       "753     Male              0      No        Yes       0          Yes   \n",
       "936   Female              0     Yes        Yes       0          Yes   \n",
       "1082    Male              0     Yes        Yes       0          Yes   \n",
       "1340  Female              0     Yes        Yes       0           No   \n",
       "3331    Male              0     Yes        Yes       0          Yes   \n",
       "3826    Male              0     Yes        Yes       0          Yes   \n",
       "4380  Female              0     Yes        Yes       0          Yes   \n",
       "5218    Male              0     Yes        Yes       0          Yes   \n",
       "6670  Female              0     Yes        Yes       0          Yes   \n",
       "6754    Male              0      No        Yes       0          Yes   \n",
       "\n",
       "     MultipleLines InternetService OnlineSecurity OnlineBackup  \\\n",
       "488             No             DSL            Yes           No   \n",
       "753             No              No             No           No   \n",
       "936             No             DSL            Yes          Yes   \n",
       "1082           Yes              No             No           No   \n",
       "1340            No             DSL            Yes          Yes   \n",
       "3331            No              No             No           No   \n",
       "3826           Yes              No             No           No   \n",
       "4380            No              No             No           No   \n",
       "5218            No              No             No           No   \n",
       "6670           Yes             DSL             No          Yes   \n",
       "6754           Yes             DSL            Yes          Yes   \n",
       "\n",
       "     DeviceProtection TechSupport StreamingTV StreamingMovies  Contract  \\\n",
       "488               Yes         Yes         Yes              No  Two year   \n",
       "753                No          No          No              No  Two year   \n",
       "936               Yes          No         Yes             Yes  Two year   \n",
       "1082               No          No          No              No  Two year   \n",
       "1340              Yes         Yes         Yes              No  Two year   \n",
       "3331               No          No          No              No  Two year   \n",
       "3826               No          No          No              No  Two year   \n",
       "4380               No          No          No              No  Two year   \n",
       "5218               No          No          No              No  One year   \n",
       "6670              Yes         Yes         Yes              No  Two year   \n",
       "6754               No         Yes          No              No  Two year   \n",
       "\n",
       "     PaperlessBilling              PaymentMethod  MonthlyCharges TotalCharges  \\\n",
       "488               Yes  Bank transfer (automatic)           52.55                \n",
       "753                No               Mailed check           20.25                \n",
       "936                No               Mailed check           80.85                \n",
       "1082               No               Mailed check           25.75                \n",
       "1340               No    Credit card (automatic)           56.05                \n",
       "3331               No               Mailed check           19.85                \n",
       "3826               No               Mailed check           25.35                \n",
       "4380               No               Mailed check           20.00                \n",
       "5218              Yes               Mailed check           19.70                \n",
       "6670               No               Mailed check           73.35                \n",
       "6754              Yes  Bank transfer (automatic)           61.90                \n",
       "\n",
       "     Churn  \n",
       "488     No  \n",
       "753     No  \n",
       "936     No  \n",
       "1082    No  \n",
       "1340    No  \n",
       "3331    No  \n",
       "3826    No  \n",
       "4380    No  \n",
       "5218    No  \n",
       "6670    No  \n",
       "6754    No  "
      ]
     },
     "execution_count": 9,
     "metadata": {},
     "output_type": "execute_result"
    }
   ],
   "source": [
    "df.loc[df['TotalCharges'] == ' ']"
   ]
  },
  {
   "cell_type": "code",
   "execution_count": 10,
   "id": "359be0b5",
   "metadata": {
    "execution": {
     "iopub.execute_input": "2024-08-23T18:18:37.699981Z",
     "iopub.status.busy": "2024-08-23T18:18:37.699635Z",
     "iopub.status.idle": "2024-08-23T18:18:37.710429Z",
     "shell.execute_reply": "2024-08-23T18:18:37.709477Z"
    },
    "papermill": {
     "duration": 0.027258,
     "end_time": "2024-08-23T18:18:37.712627",
     "exception": false,
     "start_time": "2024-08-23T18:18:37.685369",
     "status": "completed"
    },
    "tags": []
   },
   "outputs": [
    {
     "data": {
      "text/plain": [
       "dtype('float64')"
      ]
     },
     "execution_count": 10,
     "metadata": {},
     "output_type": "execute_result"
    }
   ],
   "source": [
    "df['TotalCharges'] = pd.to_numeric(df.TotalCharges, errors='coerce') #if ' ' convert it tot Nan\n",
    "df['TotalCharges'].dtype"
   ]
  },
  {
   "cell_type": "code",
   "execution_count": 11,
   "id": "5bcd11d0",
   "metadata": {
    "execution": {
     "iopub.execute_input": "2024-08-23T18:18:37.740896Z",
     "iopub.status.busy": "2024-08-23T18:18:37.740480Z",
     "iopub.status.idle": "2024-08-23T18:18:37.747516Z",
     "shell.execute_reply": "2024-08-23T18:18:37.746583Z"
    },
    "papermill": {
     "duration": 0.023711,
     "end_time": "2024-08-23T18:18:37.749604",
     "exception": false,
     "start_time": "2024-08-23T18:18:37.725893",
     "status": "completed"
    },
    "tags": []
   },
   "outputs": [
    {
     "data": {
      "text/plain": [
       "11"
      ]
     },
     "execution_count": 11,
     "metadata": {},
     "output_type": "execute_result"
    }
   ],
   "source": [
    "# df.loc[df['TotalCharges'] == ' ', 'TotalCharges'] = df['MonthlyCharges']\n",
    "# df.loc[df['TotalCharges'] == ' ']\n",
    "df['TotalCharges'].isnull().sum()"
   ]
  },
  {
   "cell_type": "code",
   "execution_count": 12,
   "id": "2d694386",
   "metadata": {
    "execution": {
     "iopub.execute_input": "2024-08-23T18:18:37.778974Z",
     "iopub.status.busy": "2024-08-23T18:18:37.778045Z",
     "iopub.status.idle": "2024-08-23T18:18:37.786479Z",
     "shell.execute_reply": "2024-08-23T18:18:37.785493Z"
    },
    "papermill": {
     "duration": 0.02555,
     "end_time": "2024-08-23T18:18:37.788637",
     "exception": false,
     "start_time": "2024-08-23T18:18:37.763087",
     "status": "completed"
    },
    "tags": []
   },
   "outputs": [
    {
     "data": {
      "text/plain": [
       "0"
      ]
     },
     "execution_count": 12,
     "metadata": {},
     "output_type": "execute_result"
    }
   ],
   "source": [
    "df['TotalCharges'] = df['TotalCharges'].fillna(df['MonthlyCharges'].mean())\n",
    "df['TotalCharges'].isnull().sum()"
   ]
  },
  {
   "cell_type": "code",
   "execution_count": 13,
   "id": "93052d87",
   "metadata": {
    "execution": {
     "iopub.execute_input": "2024-08-23T18:18:37.817847Z",
     "iopub.status.busy": "2024-08-23T18:18:37.817126Z",
     "iopub.status.idle": "2024-08-23T18:18:37.829071Z",
     "shell.execute_reply": "2024-08-23T18:18:37.828133Z"
    },
    "papermill": {
     "duration": 0.029083,
     "end_time": "2024-08-23T18:18:37.831359",
     "exception": false,
     "start_time": "2024-08-23T18:18:37.802276",
     "status": "completed"
    },
    "tags": []
   },
   "outputs": [
    {
     "data": {
      "text/plain": [
       "Index(['gender', 'Partner', 'Dependents', 'PhoneService', 'MultipleLines',\n",
       "       'InternetService', 'OnlineSecurity', 'OnlineBackup', 'DeviceProtection',\n",
       "       'TechSupport', 'StreamingTV', 'StreamingMovies', 'Contract',\n",
       "       'PaperlessBilling', 'PaymentMethod', 'Churn'],\n",
       "      dtype='object')"
      ]
     },
     "execution_count": 13,
     "metadata": {},
     "output_type": "execute_result"
    }
   ],
   "source": [
    "df.select_dtypes(include=['object']).columns"
   ]
  },
  {
   "cell_type": "code",
   "execution_count": 14,
   "id": "d175ecac",
   "metadata": {
    "execution": {
     "iopub.execute_input": "2024-08-23T18:18:37.860703Z",
     "iopub.status.busy": "2024-08-23T18:18:37.860270Z",
     "iopub.status.idle": "2024-08-23T18:18:37.876339Z",
     "shell.execute_reply": "2024-08-23T18:18:37.875326Z"
    },
    "papermill": {
     "duration": 0.033533,
     "end_time": "2024-08-23T18:18:37.878693",
     "exception": false,
     "start_time": "2024-08-23T18:18:37.845160",
     "status": "completed"
    },
    "tags": []
   },
   "outputs": [
    {
     "name": "stdout",
     "output_type": "stream",
     "text": [
      "gender : ['Female' 'Male']\n",
      "\n",
      "Partner : ['Yes' 'No']\n",
      "\n",
      "Dependents : ['No' 'Yes']\n",
      "\n",
      "PhoneService : ['No' 'Yes']\n",
      "\n",
      "MultipleLines : ['No' 'Yes']\n",
      "\n",
      "InternetService : ['DSL' 'Fiber optic' 'No']\n",
      "\n",
      "OnlineSecurity : ['No' 'Yes']\n",
      "\n",
      "OnlineBackup : ['Yes' 'No']\n",
      "\n",
      "DeviceProtection : ['No' 'Yes']\n",
      "\n",
      "TechSupport : ['No' 'Yes']\n",
      "\n",
      "StreamingTV : ['No' 'Yes']\n",
      "\n",
      "StreamingMovies : ['No' 'Yes']\n",
      "\n",
      "Contract : ['Month-to-month' 'One year' 'Two year']\n",
      "\n",
      "PaperlessBilling : ['Yes' 'No']\n",
      "\n",
      "PaymentMethod : ['Electronic check' 'Mailed check' 'Bank transfer (automatic)'\n",
      " 'Credit card (automatic)']\n",
      "\n",
      "Churn : ['No' 'Yes']\n",
      "\n"
     ]
    }
   ],
   "source": [
    "print_unique_vals()"
   ]
  },
  {
   "cell_type": "markdown",
   "id": "b6843a21",
   "metadata": {
    "papermill": {
     "duration": 0.013401,
     "end_time": "2024-08-23T18:18:37.905773",
     "exception": false,
     "start_time": "2024-08-23T18:18:37.892372",
     "status": "completed"
    },
    "tags": []
   },
   "source": [
    "We apply our machine learning algorithms on :\n",
    "* df1 - dataframe on which we applied One-hot-encoding\n",
    "* df - dataframe on which we applied Label-encoding\n",
    "\n",
    "**df1 performed better**"
   ]
  },
  {
   "cell_type": "code",
   "execution_count": 15,
   "id": "05886052",
   "metadata": {
    "execution": {
     "iopub.execute_input": "2024-08-23T18:18:37.935322Z",
     "iopub.status.busy": "2024-08-23T18:18:37.934446Z",
     "iopub.status.idle": "2024-08-23T18:18:37.950222Z",
     "shell.execute_reply": "2024-08-23T18:18:37.949212Z"
    },
    "papermill": {
     "duration": 0.033223,
     "end_time": "2024-08-23T18:18:37.952752",
     "exception": false,
     "start_time": "2024-08-23T18:18:37.919529",
     "status": "completed"
    },
    "tags": []
   },
   "outputs": [],
   "source": [
    "#using One-hot-encoding -> this makes much more sense, since the values are not ordinal (i.e. doesn't have any intrinsic order)\n",
    "df1 = df\n",
    "df1 = pd.get_dummies(data=df1, columns=['InternetService', 'Contract', 'PaymentMethod'], drop_first=True)"
   ]
  },
  {
   "cell_type": "code",
   "execution_count": 16,
   "id": "dcd59dc3",
   "metadata": {
    "execution": {
     "iopub.execute_input": "2024-08-23T18:18:37.982350Z",
     "iopub.status.busy": "2024-08-23T18:18:37.981605Z",
     "iopub.status.idle": "2024-08-23T18:18:37.989563Z",
     "shell.execute_reply": "2024-08-23T18:18:37.988595Z"
    },
    "papermill": {
     "duration": 0.025128,
     "end_time": "2024-08-23T18:18:37.991774",
     "exception": false,
     "start_time": "2024-08-23T18:18:37.966646",
     "status": "completed"
    },
    "tags": []
   },
   "outputs": [
    {
     "data": {
      "text/plain": [
       "gender                                    object\n",
       "SeniorCitizen                              int64\n",
       "Partner                                   object\n",
       "Dependents                                object\n",
       "tenure                                     int64\n",
       "PhoneService                              object\n",
       "MultipleLines                             object\n",
       "OnlineSecurity                            object\n",
       "OnlineBackup                              object\n",
       "DeviceProtection                          object\n",
       "TechSupport                               object\n",
       "StreamingTV                               object\n",
       "StreamingMovies                           object\n",
       "PaperlessBilling                          object\n",
       "MonthlyCharges                           float64\n",
       "TotalCharges                             float64\n",
       "Churn                                     object\n",
       "InternetService_Fiber optic                 bool\n",
       "InternetService_No                          bool\n",
       "Contract_One year                           bool\n",
       "Contract_Two year                           bool\n",
       "PaymentMethod_Credit card (automatic)       bool\n",
       "PaymentMethod_Electronic check              bool\n",
       "PaymentMethod_Mailed check                  bool\n",
       "dtype: object"
      ]
     },
     "execution_count": 16,
     "metadata": {},
     "output_type": "execute_result"
    }
   ],
   "source": [
    "df1.dtypes"
   ]
  },
  {
   "cell_type": "code",
   "execution_count": 17,
   "id": "4a64aaca",
   "metadata": {
    "execution": {
     "iopub.execute_input": "2024-08-23T18:18:38.079259Z",
     "iopub.status.busy": "2024-08-23T18:18:38.078855Z",
     "iopub.status.idle": "2024-08-23T18:18:39.210089Z",
     "shell.execute_reply": "2024-08-23T18:18:39.208952Z"
    },
    "papermill": {
     "duration": 1.149273,
     "end_time": "2024-08-23T18:18:39.212641",
     "exception": false,
     "start_time": "2024-08-23T18:18:38.063368",
     "status": "completed"
    },
    "tags": []
   },
   "outputs": [],
   "source": [
    "#using label encoder\n",
    "from sklearn.preprocessing import LabelEncoder\n",
    "\n",
    "def object_to_int(x : [pd.Series]):\n",
    "    if(x.dtype == 'object'):\n",
    "        x = LabelEncoder().fit_transform(x)\n",
    "    return x"
   ]
  },
  {
   "cell_type": "code",
   "execution_count": 18,
   "id": "a5ec5d17",
   "metadata": {
    "execution": {
     "iopub.execute_input": "2024-08-23T18:18:39.243715Z",
     "iopub.status.busy": "2024-08-23T18:18:39.243308Z",
     "iopub.status.idle": "2024-08-23T18:18:39.278833Z",
     "shell.execute_reply": "2024-08-23T18:18:39.277848Z"
    },
    "papermill": {
     "duration": 0.052908,
     "end_time": "2024-08-23T18:18:39.281074",
     "exception": false,
     "start_time": "2024-08-23T18:18:39.228166",
     "status": "completed"
    },
    "tags": []
   },
   "outputs": [
    {
     "data": {
      "text/plain": [
       "gender                                     int64\n",
       "SeniorCitizen                              int64\n",
       "Partner                                    int64\n",
       "Dependents                                 int64\n",
       "tenure                                     int64\n",
       "PhoneService                               int64\n",
       "MultipleLines                              int64\n",
       "OnlineSecurity                             int64\n",
       "OnlineBackup                               int64\n",
       "DeviceProtection                           int64\n",
       "TechSupport                                int64\n",
       "StreamingTV                                int64\n",
       "StreamingMovies                            int64\n",
       "PaperlessBilling                           int64\n",
       "MonthlyCharges                           float64\n",
       "TotalCharges                             float64\n",
       "Churn                                      int64\n",
       "InternetService_Fiber optic                 bool\n",
       "InternetService_No                          bool\n",
       "Contract_One year                           bool\n",
       "Contract_Two year                           bool\n",
       "PaymentMethod_Credit card (automatic)       bool\n",
       "PaymentMethod_Electronic check              bool\n",
       "PaymentMethod_Mailed check                  bool\n",
       "dtype: object"
      ]
     },
     "execution_count": 18,
     "metadata": {},
     "output_type": "execute_result"
    }
   ],
   "source": [
    "df1 = df1.apply(lambda x: object_to_int(x))\n",
    "df1.dtypes"
   ]
  },
  {
   "cell_type": "code",
   "execution_count": 19,
   "id": "946ea907",
   "metadata": {
    "execution": {
     "iopub.execute_input": "2024-08-23T18:18:39.311735Z",
     "iopub.status.busy": "2024-08-23T18:18:39.310905Z",
     "iopub.status.idle": "2024-08-23T18:18:39.337846Z",
     "shell.execute_reply": "2024-08-23T18:18:39.336814Z"
    },
    "papermill": {
     "duration": 0.044863,
     "end_time": "2024-08-23T18:18:39.340149",
     "exception": false,
     "start_time": "2024-08-23T18:18:39.295286",
     "status": "completed"
    },
    "tags": []
   },
   "outputs": [
    {
     "data": {
      "text/html": [
       "<div>\n",
       "<style scoped>\n",
       "    .dataframe tbody tr th:only-of-type {\n",
       "        vertical-align: middle;\n",
       "    }\n",
       "\n",
       "    .dataframe tbody tr th {\n",
       "        vertical-align: top;\n",
       "    }\n",
       "\n",
       "    .dataframe thead th {\n",
       "        text-align: right;\n",
       "    }\n",
       "</style>\n",
       "<table border=\"1\" class=\"dataframe\">\n",
       "  <thead>\n",
       "    <tr style=\"text-align: right;\">\n",
       "      <th></th>\n",
       "      <th>gender</th>\n",
       "      <th>SeniorCitizen</th>\n",
       "      <th>Partner</th>\n",
       "      <th>Dependents</th>\n",
       "      <th>tenure</th>\n",
       "      <th>PhoneService</th>\n",
       "      <th>MultipleLines</th>\n",
       "      <th>OnlineSecurity</th>\n",
       "      <th>OnlineBackup</th>\n",
       "      <th>DeviceProtection</th>\n",
       "      <th>...</th>\n",
       "      <th>MonthlyCharges</th>\n",
       "      <th>TotalCharges</th>\n",
       "      <th>Churn</th>\n",
       "      <th>InternetService_Fiber optic</th>\n",
       "      <th>InternetService_No</th>\n",
       "      <th>Contract_One year</th>\n",
       "      <th>Contract_Two year</th>\n",
       "      <th>PaymentMethod_Credit card (automatic)</th>\n",
       "      <th>PaymentMethod_Electronic check</th>\n",
       "      <th>PaymentMethod_Mailed check</th>\n",
       "    </tr>\n",
       "  </thead>\n",
       "  <tbody>\n",
       "    <tr>\n",
       "      <th>3019</th>\n",
       "      <td>0</td>\n",
       "      <td>0</td>\n",
       "      <td>1</td>\n",
       "      <td>1</td>\n",
       "      <td>22</td>\n",
       "      <td>1</td>\n",
       "      <td>0</td>\n",
       "      <td>0</td>\n",
       "      <td>1</td>\n",
       "      <td>0</td>\n",
       "      <td>...</td>\n",
       "      <td>55.15</td>\n",
       "      <td>1206.05</td>\n",
       "      <td>1</td>\n",
       "      <td>False</td>\n",
       "      <td>False</td>\n",
       "      <td>False</td>\n",
       "      <td>False</td>\n",
       "      <td>False</td>\n",
       "      <td>True</td>\n",
       "      <td>False</td>\n",
       "    </tr>\n",
       "    <tr>\n",
       "      <th>5816</th>\n",
       "      <td>0</td>\n",
       "      <td>0</td>\n",
       "      <td>0</td>\n",
       "      <td>0</td>\n",
       "      <td>3</td>\n",
       "      <td>1</td>\n",
       "      <td>0</td>\n",
       "      <td>0</td>\n",
       "      <td>0</td>\n",
       "      <td>0</td>\n",
       "      <td>...</td>\n",
       "      <td>44.60</td>\n",
       "      <td>122.70</td>\n",
       "      <td>0</td>\n",
       "      <td>False</td>\n",
       "      <td>False</td>\n",
       "      <td>False</td>\n",
       "      <td>False</td>\n",
       "      <td>False</td>\n",
       "      <td>True</td>\n",
       "      <td>False</td>\n",
       "    </tr>\n",
       "    <tr>\n",
       "      <th>3480</th>\n",
       "      <td>1</td>\n",
       "      <td>0</td>\n",
       "      <td>1</td>\n",
       "      <td>0</td>\n",
       "      <td>70</td>\n",
       "      <td>1</td>\n",
       "      <td>0</td>\n",
       "      <td>0</td>\n",
       "      <td>0</td>\n",
       "      <td>0</td>\n",
       "      <td>...</td>\n",
       "      <td>19.85</td>\n",
       "      <td>1433.80</td>\n",
       "      <td>0</td>\n",
       "      <td>False</td>\n",
       "      <td>True</td>\n",
       "      <td>False</td>\n",
       "      <td>True</td>\n",
       "      <td>True</td>\n",
       "      <td>False</td>\n",
       "      <td>False</td>\n",
       "    </tr>\n",
       "    <tr>\n",
       "      <th>4728</th>\n",
       "      <td>1</td>\n",
       "      <td>0</td>\n",
       "      <td>0</td>\n",
       "      <td>0</td>\n",
       "      <td>46</td>\n",
       "      <td>0</td>\n",
       "      <td>0</td>\n",
       "      <td>1</td>\n",
       "      <td>0</td>\n",
       "      <td>1</td>\n",
       "      <td>...</td>\n",
       "      <td>38.25</td>\n",
       "      <td>1755.35</td>\n",
       "      <td>0</td>\n",
       "      <td>False</td>\n",
       "      <td>False</td>\n",
       "      <td>False</td>\n",
       "      <td>True</td>\n",
       "      <td>False</td>\n",
       "      <td>False</td>\n",
       "      <td>True</td>\n",
       "    </tr>\n",
       "    <tr>\n",
       "      <th>1980</th>\n",
       "      <td>1</td>\n",
       "      <td>0</td>\n",
       "      <td>0</td>\n",
       "      <td>0</td>\n",
       "      <td>10</td>\n",
       "      <td>1</td>\n",
       "      <td>1</td>\n",
       "      <td>0</td>\n",
       "      <td>1</td>\n",
       "      <td>1</td>\n",
       "      <td>...</td>\n",
       "      <td>95.25</td>\n",
       "      <td>1021.55</td>\n",
       "      <td>0</td>\n",
       "      <td>True</td>\n",
       "      <td>False</td>\n",
       "      <td>False</td>\n",
       "      <td>False</td>\n",
       "      <td>False</td>\n",
       "      <td>True</td>\n",
       "      <td>False</td>\n",
       "    </tr>\n",
       "    <tr>\n",
       "      <th>5373</th>\n",
       "      <td>1</td>\n",
       "      <td>0</td>\n",
       "      <td>1</td>\n",
       "      <td>0</td>\n",
       "      <td>71</td>\n",
       "      <td>1</td>\n",
       "      <td>0</td>\n",
       "      <td>0</td>\n",
       "      <td>1</td>\n",
       "      <td>1</td>\n",
       "      <td>...</td>\n",
       "      <td>105.25</td>\n",
       "      <td>7291.75</td>\n",
       "      <td>0</td>\n",
       "      <td>True</td>\n",
       "      <td>False</td>\n",
       "      <td>False</td>\n",
       "      <td>True</td>\n",
       "      <td>False</td>\n",
       "      <td>True</td>\n",
       "      <td>False</td>\n",
       "    </tr>\n",
       "    <tr>\n",
       "      <th>6593</th>\n",
       "      <td>1</td>\n",
       "      <td>0</td>\n",
       "      <td>1</td>\n",
       "      <td>0</td>\n",
       "      <td>55</td>\n",
       "      <td>0</td>\n",
       "      <td>0</td>\n",
       "      <td>0</td>\n",
       "      <td>0</td>\n",
       "      <td>1</td>\n",
       "      <td>...</td>\n",
       "      <td>54.55</td>\n",
       "      <td>2978.30</td>\n",
       "      <td>1</td>\n",
       "      <td>False</td>\n",
       "      <td>False</td>\n",
       "      <td>False</td>\n",
       "      <td>False</td>\n",
       "      <td>False</td>\n",
       "      <td>False</td>\n",
       "      <td>False</td>\n",
       "    </tr>\n",
       "    <tr>\n",
       "      <th>933</th>\n",
       "      <td>0</td>\n",
       "      <td>1</td>\n",
       "      <td>0</td>\n",
       "      <td>0</td>\n",
       "      <td>4</td>\n",
       "      <td>1</td>\n",
       "      <td>1</td>\n",
       "      <td>0</td>\n",
       "      <td>0</td>\n",
       "      <td>0</td>\n",
       "      <td>...</td>\n",
       "      <td>84.60</td>\n",
       "      <td>360.10</td>\n",
       "      <td>1</td>\n",
       "      <td>True</td>\n",
       "      <td>False</td>\n",
       "      <td>False</td>\n",
       "      <td>False</td>\n",
       "      <td>False</td>\n",
       "      <td>True</td>\n",
       "      <td>False</td>\n",
       "    </tr>\n",
       "    <tr>\n",
       "      <th>3165</th>\n",
       "      <td>1</td>\n",
       "      <td>0</td>\n",
       "      <td>1</td>\n",
       "      <td>1</td>\n",
       "      <td>24</td>\n",
       "      <td>1</td>\n",
       "      <td>0</td>\n",
       "      <td>0</td>\n",
       "      <td>0</td>\n",
       "      <td>0</td>\n",
       "      <td>...</td>\n",
       "      <td>20.25</td>\n",
       "      <td>439.75</td>\n",
       "      <td>0</td>\n",
       "      <td>False</td>\n",
       "      <td>True</td>\n",
       "      <td>True</td>\n",
       "      <td>False</td>\n",
       "      <td>False</td>\n",
       "      <td>False</td>\n",
       "      <td>True</td>\n",
       "    </tr>\n",
       "    <tr>\n",
       "      <th>4458</th>\n",
       "      <td>1</td>\n",
       "      <td>0</td>\n",
       "      <td>1</td>\n",
       "      <td>1</td>\n",
       "      <td>38</td>\n",
       "      <td>1</td>\n",
       "      <td>1</td>\n",
       "      <td>0</td>\n",
       "      <td>1</td>\n",
       "      <td>1</td>\n",
       "      <td>...</td>\n",
       "      <td>94.65</td>\n",
       "      <td>3624.30</td>\n",
       "      <td>1</td>\n",
       "      <td>True</td>\n",
       "      <td>False</td>\n",
       "      <td>False</td>\n",
       "      <td>False</td>\n",
       "      <td>False</td>\n",
       "      <td>True</td>\n",
       "      <td>False</td>\n",
       "    </tr>\n",
       "  </tbody>\n",
       "</table>\n",
       "<p>10 rows × 24 columns</p>\n",
       "</div>"
      ],
      "text/plain": [
       "      gender  SeniorCitizen  Partner  Dependents  tenure  PhoneService  \\\n",
       "3019       0              0        1           1      22             1   \n",
       "5816       0              0        0           0       3             1   \n",
       "3480       1              0        1           0      70             1   \n",
       "4728       1              0        0           0      46             0   \n",
       "1980       1              0        0           0      10             1   \n",
       "5373       1              0        1           0      71             1   \n",
       "6593       1              0        1           0      55             0   \n",
       "933        0              1        0           0       4             1   \n",
       "3165       1              0        1           1      24             1   \n",
       "4458       1              0        1           1      38             1   \n",
       "\n",
       "      MultipleLines  OnlineSecurity  OnlineBackup  DeviceProtection  ...  \\\n",
       "3019              0               0             1                 0  ...   \n",
       "5816              0               0             0                 0  ...   \n",
       "3480              0               0             0                 0  ...   \n",
       "4728              0               1             0                 1  ...   \n",
       "1980              1               0             1                 1  ...   \n",
       "5373              0               0             1                 1  ...   \n",
       "6593              0               0             0                 1  ...   \n",
       "933               1               0             0                 0  ...   \n",
       "3165              0               0             0                 0  ...   \n",
       "4458              1               0             1                 1  ...   \n",
       "\n",
       "      MonthlyCharges  TotalCharges  Churn  InternetService_Fiber optic  \\\n",
       "3019           55.15       1206.05      1                        False   \n",
       "5816           44.60        122.70      0                        False   \n",
       "3480           19.85       1433.80      0                        False   \n",
       "4728           38.25       1755.35      0                        False   \n",
       "1980           95.25       1021.55      0                         True   \n",
       "5373          105.25       7291.75      0                         True   \n",
       "6593           54.55       2978.30      1                        False   \n",
       "933            84.60        360.10      1                         True   \n",
       "3165           20.25        439.75      0                        False   \n",
       "4458           94.65       3624.30      1                         True   \n",
       "\n",
       "      InternetService_No  Contract_One year  Contract_Two year  \\\n",
       "3019               False              False              False   \n",
       "5816               False              False              False   \n",
       "3480                True              False               True   \n",
       "4728               False              False               True   \n",
       "1980               False              False              False   \n",
       "5373               False              False               True   \n",
       "6593               False              False              False   \n",
       "933                False              False              False   \n",
       "3165                True               True              False   \n",
       "4458               False              False              False   \n",
       "\n",
       "      PaymentMethod_Credit card (automatic)  PaymentMethod_Electronic check  \\\n",
       "3019                                  False                            True   \n",
       "5816                                  False                            True   \n",
       "3480                                   True                           False   \n",
       "4728                                  False                           False   \n",
       "1980                                  False                            True   \n",
       "5373                                  False                            True   \n",
       "6593                                  False                           False   \n",
       "933                                   False                            True   \n",
       "3165                                  False                           False   \n",
       "4458                                  False                            True   \n",
       "\n",
       "      PaymentMethod_Mailed check  \n",
       "3019                       False  \n",
       "5816                       False  \n",
       "3480                       False  \n",
       "4728                        True  \n",
       "1980                       False  \n",
       "5373                       False  \n",
       "6593                       False  \n",
       "933                        False  \n",
       "3165                        True  \n",
       "4458                       False  \n",
       "\n",
       "[10 rows x 24 columns]"
      ]
     },
     "execution_count": 19,
     "metadata": {},
     "output_type": "execute_result"
    }
   ],
   "source": [
    "df1.sample(10)"
   ]
  },
  {
   "cell_type": "code",
   "execution_count": 20,
   "id": "1f5259ea",
   "metadata": {
    "execution": {
     "iopub.execute_input": "2024-08-23T18:18:39.371486Z",
     "iopub.status.busy": "2024-08-23T18:18:39.371127Z",
     "iopub.status.idle": "2024-08-23T18:18:39.420035Z",
     "shell.execute_reply": "2024-08-23T18:18:39.418868Z"
    },
    "papermill": {
     "duration": 0.067322,
     "end_time": "2024-08-23T18:18:39.422307",
     "exception": false,
     "start_time": "2024-08-23T18:18:39.354985",
     "status": "completed"
    },
    "tags": []
   },
   "outputs": [
    {
     "data": {
      "text/html": [
       "<div>\n",
       "<style scoped>\n",
       "    .dataframe tbody tr th:only-of-type {\n",
       "        vertical-align: middle;\n",
       "    }\n",
       "\n",
       "    .dataframe tbody tr th {\n",
       "        vertical-align: top;\n",
       "    }\n",
       "\n",
       "    .dataframe thead th {\n",
       "        text-align: right;\n",
       "    }\n",
       "</style>\n",
       "<table border=\"1\" class=\"dataframe\">\n",
       "  <thead>\n",
       "    <tr style=\"text-align: right;\">\n",
       "      <th></th>\n",
       "      <th>gender</th>\n",
       "      <th>SeniorCitizen</th>\n",
       "      <th>Partner</th>\n",
       "      <th>Dependents</th>\n",
       "      <th>tenure</th>\n",
       "      <th>PhoneService</th>\n",
       "      <th>MultipleLines</th>\n",
       "      <th>InternetService</th>\n",
       "      <th>OnlineSecurity</th>\n",
       "      <th>OnlineBackup</th>\n",
       "      <th>DeviceProtection</th>\n",
       "      <th>TechSupport</th>\n",
       "      <th>StreamingTV</th>\n",
       "      <th>StreamingMovies</th>\n",
       "      <th>Contract</th>\n",
       "      <th>PaperlessBilling</th>\n",
       "      <th>PaymentMethod</th>\n",
       "      <th>MonthlyCharges</th>\n",
       "      <th>TotalCharges</th>\n",
       "      <th>Churn</th>\n",
       "    </tr>\n",
       "  </thead>\n",
       "  <tbody>\n",
       "    <tr>\n",
       "      <th>3785</th>\n",
       "      <td>1</td>\n",
       "      <td>1</td>\n",
       "      <td>1</td>\n",
       "      <td>0</td>\n",
       "      <td>10</td>\n",
       "      <td>1</td>\n",
       "      <td>1</td>\n",
       "      <td>1</td>\n",
       "      <td>0</td>\n",
       "      <td>0</td>\n",
       "      <td>1</td>\n",
       "      <td>0</td>\n",
       "      <td>0</td>\n",
       "      <td>1</td>\n",
       "      <td>0</td>\n",
       "      <td>1</td>\n",
       "      <td>2</td>\n",
       "      <td>89.80</td>\n",
       "      <td>914.30</td>\n",
       "      <td>1</td>\n",
       "    </tr>\n",
       "    <tr>\n",
       "      <th>3572</th>\n",
       "      <td>0</td>\n",
       "      <td>1</td>\n",
       "      <td>0</td>\n",
       "      <td>0</td>\n",
       "      <td>32</td>\n",
       "      <td>1</td>\n",
       "      <td>0</td>\n",
       "      <td>1</td>\n",
       "      <td>0</td>\n",
       "      <td>0</td>\n",
       "      <td>0</td>\n",
       "      <td>0</td>\n",
       "      <td>0</td>\n",
       "      <td>1</td>\n",
       "      <td>0</td>\n",
       "      <td>1</td>\n",
       "      <td>2</td>\n",
       "      <td>79.50</td>\n",
       "      <td>2665.00</td>\n",
       "      <td>0</td>\n",
       "    </tr>\n",
       "    <tr>\n",
       "      <th>6562</th>\n",
       "      <td>0</td>\n",
       "      <td>1</td>\n",
       "      <td>1</td>\n",
       "      <td>0</td>\n",
       "      <td>14</td>\n",
       "      <td>1</td>\n",
       "      <td>1</td>\n",
       "      <td>1</td>\n",
       "      <td>0</td>\n",
       "      <td>1</td>\n",
       "      <td>0</td>\n",
       "      <td>0</td>\n",
       "      <td>1</td>\n",
       "      <td>1</td>\n",
       "      <td>0</td>\n",
       "      <td>1</td>\n",
       "      <td>2</td>\n",
       "      <td>100.20</td>\n",
       "      <td>1369.80</td>\n",
       "      <td>1</td>\n",
       "    </tr>\n",
       "    <tr>\n",
       "      <th>733</th>\n",
       "      <td>0</td>\n",
       "      <td>0</td>\n",
       "      <td>1</td>\n",
       "      <td>1</td>\n",
       "      <td>72</td>\n",
       "      <td>1</td>\n",
       "      <td>1</td>\n",
       "      <td>1</td>\n",
       "      <td>1</td>\n",
       "      <td>0</td>\n",
       "      <td>0</td>\n",
       "      <td>0</td>\n",
       "      <td>0</td>\n",
       "      <td>0</td>\n",
       "      <td>2</td>\n",
       "      <td>0</td>\n",
       "      <td>0</td>\n",
       "      <td>79.05</td>\n",
       "      <td>5730.70</td>\n",
       "      <td>0</td>\n",
       "    </tr>\n",
       "    <tr>\n",
       "      <th>1111</th>\n",
       "      <td>0</td>\n",
       "      <td>0</td>\n",
       "      <td>0</td>\n",
       "      <td>0</td>\n",
       "      <td>4</td>\n",
       "      <td>1</td>\n",
       "      <td>0</td>\n",
       "      <td>1</td>\n",
       "      <td>1</td>\n",
       "      <td>0</td>\n",
       "      <td>1</td>\n",
       "      <td>1</td>\n",
       "      <td>0</td>\n",
       "      <td>1</td>\n",
       "      <td>0</td>\n",
       "      <td>1</td>\n",
       "      <td>0</td>\n",
       "      <td>94.40</td>\n",
       "      <td>387.20</td>\n",
       "      <td>1</td>\n",
       "    </tr>\n",
       "    <tr>\n",
       "      <th>3307</th>\n",
       "      <td>0</td>\n",
       "      <td>0</td>\n",
       "      <td>1</td>\n",
       "      <td>1</td>\n",
       "      <td>48</td>\n",
       "      <td>1</td>\n",
       "      <td>1</td>\n",
       "      <td>0</td>\n",
       "      <td>0</td>\n",
       "      <td>1</td>\n",
       "      <td>0</td>\n",
       "      <td>1</td>\n",
       "      <td>1</td>\n",
       "      <td>1</td>\n",
       "      <td>2</td>\n",
       "      <td>0</td>\n",
       "      <td>2</td>\n",
       "      <td>79.65</td>\n",
       "      <td>3870.30</td>\n",
       "      <td>0</td>\n",
       "    </tr>\n",
       "    <tr>\n",
       "      <th>5591</th>\n",
       "      <td>1</td>\n",
       "      <td>0</td>\n",
       "      <td>0</td>\n",
       "      <td>0</td>\n",
       "      <td>4</td>\n",
       "      <td>1</td>\n",
       "      <td>0</td>\n",
       "      <td>1</td>\n",
       "      <td>0</td>\n",
       "      <td>0</td>\n",
       "      <td>0</td>\n",
       "      <td>0</td>\n",
       "      <td>1</td>\n",
       "      <td>1</td>\n",
       "      <td>0</td>\n",
       "      <td>1</td>\n",
       "      <td>2</td>\n",
       "      <td>88.45</td>\n",
       "      <td>370.65</td>\n",
       "      <td>1</td>\n",
       "    </tr>\n",
       "    <tr>\n",
       "      <th>6370</th>\n",
       "      <td>0</td>\n",
       "      <td>0</td>\n",
       "      <td>0</td>\n",
       "      <td>0</td>\n",
       "      <td>45</td>\n",
       "      <td>1</td>\n",
       "      <td>1</td>\n",
       "      <td>1</td>\n",
       "      <td>0</td>\n",
       "      <td>1</td>\n",
       "      <td>0</td>\n",
       "      <td>0</td>\n",
       "      <td>1</td>\n",
       "      <td>0</td>\n",
       "      <td>0</td>\n",
       "      <td>1</td>\n",
       "      <td>1</td>\n",
       "      <td>89.30</td>\n",
       "      <td>4016.85</td>\n",
       "      <td>1</td>\n",
       "    </tr>\n",
       "    <tr>\n",
       "      <th>5499</th>\n",
       "      <td>1</td>\n",
       "      <td>1</td>\n",
       "      <td>0</td>\n",
       "      <td>0</td>\n",
       "      <td>15</td>\n",
       "      <td>1</td>\n",
       "      <td>0</td>\n",
       "      <td>1</td>\n",
       "      <td>0</td>\n",
       "      <td>0</td>\n",
       "      <td>0</td>\n",
       "      <td>0</td>\n",
       "      <td>0</td>\n",
       "      <td>1</td>\n",
       "      <td>0</td>\n",
       "      <td>1</td>\n",
       "      <td>2</td>\n",
       "      <td>79.40</td>\n",
       "      <td>1156.10</td>\n",
       "      <td>1</td>\n",
       "    </tr>\n",
       "    <tr>\n",
       "      <th>2977</th>\n",
       "      <td>1</td>\n",
       "      <td>0</td>\n",
       "      <td>0</td>\n",
       "      <td>0</td>\n",
       "      <td>1</td>\n",
       "      <td>1</td>\n",
       "      <td>0</td>\n",
       "      <td>2</td>\n",
       "      <td>0</td>\n",
       "      <td>0</td>\n",
       "      <td>0</td>\n",
       "      <td>0</td>\n",
       "      <td>0</td>\n",
       "      <td>0</td>\n",
       "      <td>0</td>\n",
       "      <td>1</td>\n",
       "      <td>3</td>\n",
       "      <td>19.50</td>\n",
       "      <td>19.50</td>\n",
       "      <td>0</td>\n",
       "    </tr>\n",
       "  </tbody>\n",
       "</table>\n",
       "</div>"
      ],
      "text/plain": [
       "      gender  SeniorCitizen  Partner  Dependents  tenure  PhoneService  \\\n",
       "3785       1              1        1           0      10             1   \n",
       "3572       0              1        0           0      32             1   \n",
       "6562       0              1        1           0      14             1   \n",
       "733        0              0        1           1      72             1   \n",
       "1111       0              0        0           0       4             1   \n",
       "3307       0              0        1           1      48             1   \n",
       "5591       1              0        0           0       4             1   \n",
       "6370       0              0        0           0      45             1   \n",
       "5499       1              1        0           0      15             1   \n",
       "2977       1              0        0           0       1             1   \n",
       "\n",
       "      MultipleLines  InternetService  OnlineSecurity  OnlineBackup  \\\n",
       "3785              1                1               0             0   \n",
       "3572              0                1               0             0   \n",
       "6562              1                1               0             1   \n",
       "733               1                1               1             0   \n",
       "1111              0                1               1             0   \n",
       "3307              1                0               0             1   \n",
       "5591              0                1               0             0   \n",
       "6370              1                1               0             1   \n",
       "5499              0                1               0             0   \n",
       "2977              0                2               0             0   \n",
       "\n",
       "      DeviceProtection  TechSupport  StreamingTV  StreamingMovies  Contract  \\\n",
       "3785                 1            0            0                1         0   \n",
       "3572                 0            0            0                1         0   \n",
       "6562                 0            0            1                1         0   \n",
       "733                  0            0            0                0         2   \n",
       "1111                 1            1            0                1         0   \n",
       "3307                 0            1            1                1         2   \n",
       "5591                 0            0            1                1         0   \n",
       "6370                 0            0            1                0         0   \n",
       "5499                 0            0            0                1         0   \n",
       "2977                 0            0            0                0         0   \n",
       "\n",
       "      PaperlessBilling  PaymentMethod  MonthlyCharges  TotalCharges  Churn  \n",
       "3785                 1              2           89.80        914.30      1  \n",
       "3572                 1              2           79.50       2665.00      0  \n",
       "6562                 1              2          100.20       1369.80      1  \n",
       "733                  0              0           79.05       5730.70      0  \n",
       "1111                 1              0           94.40        387.20      1  \n",
       "3307                 0              2           79.65       3870.30      0  \n",
       "5591                 1              2           88.45        370.65      1  \n",
       "6370                 1              1           89.30       4016.85      1  \n",
       "5499                 1              2           79.40       1156.10      1  \n",
       "2977                 1              3           19.50         19.50      0  "
      ]
     },
     "execution_count": 20,
     "metadata": {},
     "output_type": "execute_result"
    }
   ],
   "source": [
    "#usinglabel encoder on columns having multiple values\n",
    "df = df.apply(lambda x: object_to_int(x))\n",
    "df.sample(10)"
   ]
  },
  {
   "cell_type": "code",
   "execution_count": 21,
   "id": "035ef474",
   "metadata": {
    "execution": {
     "iopub.execute_input": "2024-08-23T18:18:39.456432Z",
     "iopub.status.busy": "2024-08-23T18:18:39.455505Z",
     "iopub.status.idle": "2024-08-23T18:18:39.463554Z",
     "shell.execute_reply": "2024-08-23T18:18:39.462571Z"
    },
    "papermill": {
     "duration": 0.027739,
     "end_time": "2024-08-23T18:18:39.465688",
     "exception": false,
     "start_time": "2024-08-23T18:18:39.437949",
     "status": "completed"
    },
    "tags": []
   },
   "outputs": [
    {
     "data": {
      "text/plain": [
       "gender                int64\n",
       "SeniorCitizen         int64\n",
       "Partner               int64\n",
       "Dependents            int64\n",
       "tenure                int64\n",
       "PhoneService          int64\n",
       "MultipleLines         int64\n",
       "InternetService       int64\n",
       "OnlineSecurity        int64\n",
       "OnlineBackup          int64\n",
       "DeviceProtection      int64\n",
       "TechSupport           int64\n",
       "StreamingTV           int64\n",
       "StreamingMovies       int64\n",
       "Contract              int64\n",
       "PaperlessBilling      int64\n",
       "PaymentMethod         int64\n",
       "MonthlyCharges      float64\n",
       "TotalCharges        float64\n",
       "Churn                 int64\n",
       "dtype: object"
      ]
     },
     "execution_count": 21,
     "metadata": {},
     "output_type": "execute_result"
    }
   ],
   "source": [
    "df.dtypes"
   ]
  },
  {
   "cell_type": "markdown",
   "id": "48a95cac",
   "metadata": {
    "papermill": {
     "duration": 0.015192,
     "end_time": "2024-08-23T18:18:39.497124",
     "exception": false,
     "start_time": "2024-08-23T18:18:39.481932",
     "status": "completed"
    },
    "tags": []
   },
   "source": [
    "## Visualizing the outlier trends in Tenure, Monthly Charges and Total Charges"
   ]
  },
  {
   "cell_type": "code",
   "execution_count": 22,
   "id": "66431836",
   "metadata": {
    "execution": {
     "iopub.execute_input": "2024-08-23T18:18:39.530610Z",
     "iopub.status.busy": "2024-08-23T18:18:39.529661Z",
     "iopub.status.idle": "2024-08-23T18:18:39.909036Z",
     "shell.execute_reply": "2024-08-23T18:18:39.907916Z"
    },
    "papermill": {
     "duration": 0.398754,
     "end_time": "2024-08-23T18:18:39.911375",
     "exception": false,
     "start_time": "2024-08-23T18:18:39.512621",
     "status": "completed"
    },
    "tags": []
   },
   "outputs": [
    {
     "data": {
      "text/plain": [
       "Text(0.5, 1.0, 'Tenure vs Customer Churned')"
      ]
     },
     "execution_count": 22,
     "metadata": {},
     "output_type": "execute_result"
    },
    {
     "data": {
      "image/png": "[encoded data removed]",
      "text/plain": [
       "<Figure size 640x480 with 1 Axes>"
      ]
     },
     "metadata": {},
     "output_type": "display_data"
    }
   ],
   "source": [
    "tenure_churn_no = df[df['Churn'] == 0].tenure #leaving customers\n",
    "tenure_churn_yes = df[df['Churn'] == 1].tenure #staying customers\n",
    "plt.hist([tenure_churn_yes, tenure_churn_no], color=['green', 'red'], label=['Churn=Yes', 'Churn=No'])\n",
    "plt.legend()\n",
    "plt.xlabel('tenure')\n",
    "plt.ylabel('count of customers')\n",
    "plt.title('Tenure vs Customer Churned')"
   ]
  },
  {
   "cell_type": "code",
   "execution_count": 23,
   "id": "1c29901a",
   "metadata": {
    "execution": {
     "iopub.execute_input": "2024-08-23T18:18:39.945621Z",
     "iopub.status.busy": "2024-08-23T18:18:39.944447Z",
     "iopub.status.idle": "2024-08-23T18:18:40.380921Z",
     "shell.execute_reply": "2024-08-23T18:18:40.379782Z"
    },
    "papermill": {
     "duration": 0.455815,
     "end_time": "2024-08-23T18:18:40.383277",
     "exception": false,
     "start_time": "2024-08-23T18:18:39.927462",
     "status": "completed"
    },
    "tags": []
   },
   "outputs": [
    {
     "data": {
      "text/plain": [
       "Text(0.5, 1.0, 'MonthlyCharges vs Customer Churned')"
      ]
     },
     "execution_count": 23,
     "metadata": {},
     "output_type": "execute_result"
    },
    {
     "data": {
      "image/png": "[encoded data removed]",
      "text/plain": [
       "<Figure size 640x480 with 1 Axes>"
      ]
     },
     "metadata": {},
     "output_type": "display_data"
    }
   ],
   "source": [
    "#monthly charges vs customer churned\n",
    "monthlyCharges_churn_no = df[df['Churn'] == 0].MonthlyCharges #leaving customers\n",
    "monthlyCharges_churn_yes = df[df['Churn'] == 1].MonthlyCharges #staying customers\n",
    "plt.hist([monthlyCharges_churn_yes, monthlyCharges_churn_no], color=['green', 'red'], label=['Churn=Yes', 'Churn=No'])\n",
    "plt.legend()\n",
    "plt.xlabel('MonthlyCharges')\n",
    "plt.ylabel('count of customers')\n",
    "plt.title('MonthlyCharges vs Customer Churned')"
   ]
  },
  {
   "cell_type": "code",
   "execution_count": 24,
   "id": "48ae479f",
   "metadata": {
    "execution": {
     "iopub.execute_input": "2024-08-23T18:18:40.423993Z",
     "iopub.status.busy": "2024-08-23T18:18:40.422886Z",
     "iopub.status.idle": "2024-08-23T18:18:40.783514Z",
     "shell.execute_reply": "2024-08-23T18:18:40.782500Z"
    },
    "papermill": {
     "duration": 0.385771,
     "end_time": "2024-08-23T18:18:40.785728",
     "exception": false,
     "start_time": "2024-08-23T18:18:40.399957",
     "status": "completed"
    },
    "tags": []
   },
   "outputs": [
    {
     "data": {
      "text/plain": [
       "Text(0.5, 1.0, 'TotalCharges vs Customer Churned')"
      ]
     },
     "execution_count": 24,
     "metadata": {},
     "output_type": "execute_result"
    },
    {
     "data": {
      "image/png": "[encoded data removed]",
      "text/plain": [
       "<Figure size 640x480 with 1 Axes>"
      ]
     },
     "metadata": {},
     "output_type": "display_data"
    }
   ],
   "source": [
    "#total charges vs customer churned\n",
    "totalCharges_churn_no = df[df['Churn'] == 0].TotalCharges #leaving customers\n",
    "totalCharges_churn_yes = df[df['Churn'] == 1].TotalCharges #staying customers\n",
    "plt.hist([totalCharges_churn_yes, totalCharges_churn_no], color=['green', 'red'], label=['Churn=Yes', 'Churn=No'])\n",
    "plt.legend()\n",
    "plt.xlabel('TotalCharges')\n",
    "plt.ylabel('count of customers')\n",
    "plt.title('TotalCharges vs Customer Churned')"
   ]
  },
  {
   "cell_type": "markdown",
   "id": "a47aef2d",
   "metadata": {
    "papermill": {
     "duration": 0.025284,
     "end_time": "2024-08-23T18:18:40.834031",
     "exception": false,
     "start_time": "2024-08-23T18:18:40.808747",
     "status": "completed"
    },
    "tags": []
   },
   "source": [
    "## Removing Outliers by Scaling the data"
   ]
  },
  {
   "cell_type": "code",
   "execution_count": 25,
   "id": "a3b46229",
   "metadata": {
    "execution": {
     "iopub.execute_input": "2024-08-23T18:18:40.872066Z",
     "iopub.status.busy": "2024-08-23T18:18:40.870893Z",
     "iopub.status.idle": "2024-08-23T18:18:40.886455Z",
     "shell.execute_reply": "2024-08-23T18:18:40.884852Z"
    },
    "papermill": {
     "duration": 0.038066,
     "end_time": "2024-08-23T18:18:40.889665",
     "exception": false,
     "start_time": "2024-08-23T18:18:40.851599",
     "status": "completed"
    },
    "tags": []
   },
   "outputs": [],
   "source": [
    "#scaling the data\n",
    "from sklearn.pipeline import make_pipeline\n",
    "from sklearn.preprocessing import StandardScaler, MinMaxScaler\n",
    "from sklearn.compose import ColumnTransformer\n",
    "\n",
    "columns_to_scale = ['tenure', 'TotalCharges', 'MonthlyCharges']\n",
    "scaling = ColumnTransformer(transformers=[\n",
    "    ('scaler', MinMaxScaler(), columns_to_scale)\n",
    "])"
   ]
  },
  {
   "cell_type": "code",
   "execution_count": 26,
   "id": "990db618",
   "metadata": {
    "execution": {
     "iopub.execute_input": "2024-08-23T18:18:40.926349Z",
     "iopub.status.busy": "2024-08-23T18:18:40.925469Z",
     "iopub.status.idle": "2024-08-23T18:18:40.931283Z",
     "shell.execute_reply": "2024-08-23T18:18:40.930385Z"
    },
    "papermill": {
     "duration": 0.026237,
     "end_time": "2024-08-23T18:18:40.933577",
     "exception": false,
     "start_time": "2024-08-23T18:18:40.907340",
     "status": "completed"
    },
    "tags": []
   },
   "outputs": [],
   "source": [
    "X1  = df1.iloc[:, :-1] #df1 = dataframe on which one-hot-encoding was applied\n",
    "y1 = df1.iloc[:, -1]"
   ]
  },
  {
   "cell_type": "code",
   "execution_count": 27,
   "id": "1a6bd01f",
   "metadata": {
    "execution": {
     "iopub.execute_input": "2024-08-23T18:18:40.970409Z",
     "iopub.status.busy": "2024-08-23T18:18:40.969425Z",
     "iopub.status.idle": "2024-08-23T18:18:40.975923Z",
     "shell.execute_reply": "2024-08-23T18:18:40.974722Z"
    },
    "papermill": {
     "duration": 0.02739,
     "end_time": "2024-08-23T18:18:40.978278",
     "exception": false,
     "start_time": "2024-08-23T18:18:40.950888",
     "status": "completed"
    },
    "tags": []
   },
   "outputs": [],
   "source": [
    "X = df.iloc[:, :-1] #df = dataframe on which only label encoding was applied\n",
    "y = df.iloc[:, -1]"
   ]
  },
  {
   "cell_type": "code",
   "execution_count": 28,
   "id": "1fe90c2c",
   "metadata": {
    "execution": {
     "iopub.execute_input": "2024-08-23T18:18:41.014504Z",
     "iopub.status.busy": "2024-08-23T18:18:41.013759Z",
     "iopub.status.idle": "2024-08-23T18:18:41.135661Z",
     "shell.execute_reply": "2024-08-23T18:18:41.134646Z"
    },
    "papermill": {
     "duration": 0.142962,
     "end_time": "2024-08-23T18:18:41.138290",
     "exception": false,
     "start_time": "2024-08-23T18:18:40.995328",
     "status": "completed"
    },
    "tags": []
   },
   "outputs": [
    {
     "name": "stdout",
     "output_type": "stream",
     "text": [
      "(4718, 19) (2325, 19) (4718,) (2325,)\n",
      "(4718, 23) (2325, 23) (4718,) (2325,)\n"
     ]
    }
   ],
   "source": [
    "from sklearn.model_selection import train_test_split\n",
    "\n",
    "X_train, X_test, y_train, y_test = train_test_split(X, y, test_size= 0.33, random_state= 0)\n",
    "X1_train, X1_test, y1_train, y1_test = train_test_split(X1, y1, test_size= 0.33, random_state= 0)\n",
    "\n",
    "print(X_train.shape, X_test.shape, y_train.shape, y_test.shape)\n",
    "print(X1_train.shape, X1_test.shape, y1_train.shape, y1_test.shape)"
   ]
  },
  {
   "cell_type": "markdown",
   "id": "a36cc1cb",
   "metadata": {
    "papermill": {
     "duration": 0.016951,
     "end_time": "2024-08-23T18:18:41.172484",
     "exception": false,
     "start_time": "2024-08-23T18:18:41.155533",
     "status": "completed"
    },
    "tags": []
   },
   "source": [
    "## Logistic Regression"
   ]
  },
  {
   "cell_type": "code",
   "execution_count": 29,
   "id": "ffa38245",
   "metadata": {
    "execution": {
     "iopub.execute_input": "2024-08-23T18:18:41.210064Z",
     "iopub.status.busy": "2024-08-23T18:18:41.209193Z",
     "iopub.status.idle": "2024-08-23T18:18:41.376001Z",
     "shell.execute_reply": "2024-08-23T18:18:41.374791Z"
    },
    "papermill": {
     "duration": 0.188382,
     "end_time": "2024-08-23T18:18:41.379090",
     "exception": false,
     "start_time": "2024-08-23T18:18:41.190708",
     "status": "completed"
    },
    "tags": []
   },
   "outputs": [
    {
     "data": {
      "text/html": [
       "<style>#sk-container-id-1 {color: black;background-color: white;}#sk-container-id-1 pre{padding: 0;}#sk-container-id-1 div.sk-toggleable {background-color: white;}#sk-container-id-1 label.sk-toggleable__label {cursor: pointer;display: block;width: 100%;margin-bottom: 0;padding: 0.3em;box-sizing: border-box;text-align: center;}#sk-container-id-1 label.sk-toggleable__label-arrow:before {content: \"▸\";float: left;margin-right: 0.25em;color: #696969;}#sk-container-id-1 label.sk-toggleable__label-arrow:hover:before {color: black;}#sk-container-id-1 div.sk-estimator:hover label.sk-toggleable__label-arrow:before {color: black;}#sk-container-id-1 div.sk-toggleable__content {max-height: 0;max-width: 0;overflow: hidden;text-align: left;background-color: #f0f8ff;}#sk-container-id-1 div.sk-toggleable__content pre {margin: 0.2em;color: black;border-radius: 0.25em;background-color: #f0f8ff;}#sk-container-id-1 input.sk-toggleable__control:checked~div.sk-toggleable__content {max-height: 200px;max-width: 100%;overflow: auto;}#sk-container-id-1 input.sk-toggleable__control:checked~label.sk-toggleable__label-arrow:before {content: \"▾\";}#sk-container-id-1 div.sk-estimator input.sk-toggleable__control:checked~label.sk-toggleable__label {background-color: #d4ebff;}#sk-container-id-1 div.sk-label input.sk-toggleable__control:checked~label.sk-toggleable__label {background-color: #d4ebff;}#sk-container-id-1 input.sk-hidden--visually {border: 0;clip: rect(1px 1px 1px 1px);clip: rect(1px, 1px, 1px, 1px);height: 1px;margin: -1px;overflow: hidden;padding: 0;position: absolute;width: 1px;}#sk-container-id-1 div.sk-estimator {font-family: monospace;background-color: #f0f8ff;border: 1px dotted black;border-radius: 0.25em;box-sizing: border-box;margin-bottom: 0.5em;}#sk-container-id-1 div.sk-estimator:hover {background-color: #d4ebff;}#sk-container-id-1 div.sk-parallel-item::after {content: \"\";width: 100%;border-bottom: 1px solid gray;flex-grow: 1;}#sk-container-id-1 div.sk-label:hover label.sk-toggleable__label {background-color: #d4ebff;}#sk-container-id-1 div.sk-serial::before {content: \"\";position: absolute;border-left: 1px solid gray;box-sizing: border-box;top: 0;bottom: 0;left: 50%;z-index: 0;}#sk-container-id-1 div.sk-serial {display: flex;flex-direction: column;align-items: center;background-color: white;padding-right: 0.2em;padding-left: 0.2em;position: relative;}#sk-container-id-1 div.sk-item {position: relative;z-index: 1;}#sk-container-id-1 div.sk-parallel {display: flex;align-items: stretch;justify-content: center;background-color: white;position: relative;}#sk-container-id-1 div.sk-item::before, #sk-container-id-1 div.sk-parallel-item::before {content: \"\";position: absolute;border-left: 1px solid gray;box-sizing: border-box;top: 0;bottom: 0;left: 50%;z-index: -1;}#sk-container-id-1 div.sk-parallel-item {display: flex;flex-direction: column;z-index: 1;position: relative;background-color: white;}#sk-container-id-1 div.sk-parallel-item:first-child::after {align-self: flex-end;width: 50%;}#sk-container-id-1 div.sk-parallel-item:last-child::after {align-self: flex-start;width: 50%;}#sk-container-id-1 div.sk-parallel-item:only-child::after {width: 0;}#sk-container-id-1 div.sk-dashed-wrapped {border: 1px dashed gray;margin: 0 0.4em 0.5em 0.4em;box-sizing: border-box;padding-bottom: 0.4em;background-color: white;}#sk-container-id-1 div.sk-label label {font-family: monospace;font-weight: bold;display: inline-block;line-height: 1.2em;}#sk-container-id-1 div.sk-label-container {text-align: center;}#sk-container-id-1 div.sk-container {/* jupyter's `normalize.less` sets `[hidden] { display: none; }` but bootstrap.min.css set `[hidden] { display: none !important; }` so we also need the `!important` here to be able to override the default hidden behavior on the sphinx rendered scikit-learn.org. See: https://github.com/scikit-learn/scikit-learn/issues/21755 */display: inline-block !important;position: relative;}#sk-container-id-1 div.sk-text-repr-fallback {display: none;}</style><div id=\"sk-container-id-1\" class=\"sk-top-container\"><div class=\"sk-text-repr-fallback\"><pre>Pipeline(steps=[(&#x27;minmaxscaler&#x27;, MinMaxScaler()),\n",
       "                (&#x27;logisticregression&#x27;, LogisticRegression())])</pre><b>In a Jupyter environment, please rerun this cell to show the HTML representation or trust the notebook. <br />On GitHub, the HTML representation is unable to render, please try loading this page with nbviewer.org.</b></div><div class=\"sk-container\" hidden><div class=\"sk-item sk-dashed-wrapped\"><div class=\"sk-label-container\"><div class=\"sk-label sk-toggleable\"><input class=\"sk-toggleable__control sk-hidden--visually\" id=\"sk-estimator-id-1\" type=\"checkbox\" ><label for=\"sk-estimator-id-1\" class=\"sk-toggleable__label sk-toggleable__label-arrow\">Pipeline</label><div class=\"sk-toggleable__content\"><pre>Pipeline(steps=[(&#x27;minmaxscaler&#x27;, MinMaxScaler()),\n",
       "                (&#x27;logisticregression&#x27;, LogisticRegression())])</pre></div></div></div><div class=\"sk-serial\"><div class=\"sk-item\"><div class=\"sk-estimator sk-toggleable\"><input class=\"sk-toggleable__control sk-hidden--visually\" id=\"sk-estimator-id-2\" type=\"checkbox\" ><label for=\"sk-estimator-id-2\" class=\"sk-toggleable__label sk-toggleable__label-arrow\">MinMaxScaler</label><div class=\"sk-toggleable__content\"><pre>MinMaxScaler()</pre></div></div></div><div class=\"sk-item\"><div class=\"sk-estimator sk-toggleable\"><input class=\"sk-toggleable__control sk-hidden--visually\" id=\"sk-estimator-id-3\" type=\"checkbox\" ><label for=\"sk-estimator-id-3\" class=\"sk-toggleable__label sk-toggleable__label-arrow\">LogisticRegression</label><div class=\"sk-toggleable__content\"><pre>LogisticRegression()</pre></div></div></div></div></div></div></div>"
      ],
      "text/plain": [
       "Pipeline(steps=[('minmaxscaler', MinMaxScaler()),\n",
       "                ('logisticregression', LogisticRegression())])"
      ]
     },
     "execution_count": 29,
     "metadata": {},
     "output_type": "execute_result"
    }
   ],
   "source": [
    "#Logistic Regression\n",
    "from sklearn.linear_model import LogisticRegression\n",
    "\n",
    "pipe = make_pipeline(MinMaxScaler(), LogisticRegression())\n",
    "pipe.fit(X_train, y_train)  # apply scaling on training data"
   ]
  },
  {
   "cell_type": "code",
   "execution_count": 30,
   "id": "beea9126",
   "metadata": {
    "execution": {
     "iopub.execute_input": "2024-08-23T18:18:41.440733Z",
     "iopub.status.busy": "2024-08-23T18:18:41.440175Z",
     "iopub.status.idle": "2024-08-23T18:18:41.459750Z",
     "shell.execute_reply": "2024-08-23T18:18:41.458559Z"
    },
    "papermill": {
     "duration": 0.054517,
     "end_time": "2024-08-23T18:18:41.463441",
     "exception": false,
     "start_time": "2024-08-23T18:18:41.408924",
     "status": "completed"
    },
    "tags": []
   },
   "outputs": [
    {
     "name": "stdout",
     "output_type": "stream",
     "text": [
      "Logistic Regression score without one-hot-encoding: 0.7974193548387096\n"
     ]
    }
   ],
   "source": [
    "print(f'Logistic Regression score without one-hot-encoding: {pipe.score(X_test, y_test)}')"
   ]
  },
  {
   "cell_type": "code",
   "execution_count": 31,
   "id": "994ab2e4",
   "metadata": {
    "execution": {
     "iopub.execute_input": "2024-08-23T18:18:41.526297Z",
     "iopub.status.busy": "2024-08-23T18:18:41.525744Z",
     "iopub.status.idle": "2024-08-23T18:18:41.602625Z",
     "shell.execute_reply": "2024-08-23T18:18:41.601425Z"
    },
    "papermill": {
     "duration": 0.112521,
     "end_time": "2024-08-23T18:18:41.606418",
     "exception": false,
     "start_time": "2024-08-23T18:18:41.493897",
     "status": "completed"
    },
    "tags": []
   },
   "outputs": [
    {
     "data": {
      "text/html": [
       "<style>#sk-container-id-2 {color: black;background-color: white;}#sk-container-id-2 pre{padding: 0;}#sk-container-id-2 div.sk-toggleable {background-color: white;}#sk-container-id-2 label.sk-toggleable__label {cursor: pointer;display: block;width: 100%;margin-bottom: 0;padding: 0.3em;box-sizing: border-box;text-align: center;}#sk-container-id-2 label.sk-toggleable__label-arrow:before {content: \"▸\";float: left;margin-right: 0.25em;color: #696969;}#sk-container-id-2 label.sk-toggleable__label-arrow:hover:before {color: black;}#sk-container-id-2 div.sk-estimator:hover label.sk-toggleable__label-arrow:before {color: black;}#sk-container-id-2 div.sk-toggleable__content {max-height: 0;max-width: 0;overflow: hidden;text-align: left;background-color: #f0f8ff;}#sk-container-id-2 div.sk-toggleable__content pre {margin: 0.2em;color: black;border-radius: 0.25em;background-color: #f0f8ff;}#sk-container-id-2 input.sk-toggleable__control:checked~div.sk-toggleable__content {max-height: 200px;max-width: 100%;overflow: auto;}#sk-container-id-2 input.sk-toggleable__control:checked~label.sk-toggleable__label-arrow:before {content: \"▾\";}#sk-container-id-2 div.sk-estimator input.sk-toggleable__control:checked~label.sk-toggleable__label {background-color: #d4ebff;}#sk-container-id-2 div.sk-label input.sk-toggleable__control:checked~label.sk-toggleable__label {background-color: #d4ebff;}#sk-container-id-2 input.sk-hidden--visually {border: 0;clip: rect(1px 1px 1px 1px);clip: rect(1px, 1px, 1px, 1px);height: 1px;margin: -1px;overflow: hidden;padding: 0;position: absolute;width: 1px;}#sk-container-id-2 div.sk-estimator {font-family: monospace;background-color: #f0f8ff;border: 1px dotted black;border-radius: 0.25em;box-sizing: border-box;margin-bottom: 0.5em;}#sk-container-id-2 div.sk-estimator:hover {background-color: #d4ebff;}#sk-container-id-2 div.sk-parallel-item::after {content: \"\";width: 100%;border-bottom: 1px solid gray;flex-grow: 1;}#sk-container-id-2 div.sk-label:hover label.sk-toggleable__label {background-color: #d4ebff;}#sk-container-id-2 div.sk-serial::before {content: \"\";position: absolute;border-left: 1px solid gray;box-sizing: border-box;top: 0;bottom: 0;left: 50%;z-index: 0;}#sk-container-id-2 div.sk-serial {display: flex;flex-direction: column;align-items: center;background-color: white;padding-right: 0.2em;padding-left: 0.2em;position: relative;}#sk-container-id-2 div.sk-item {position: relative;z-index: 1;}#sk-container-id-2 div.sk-parallel {display: flex;align-items: stretch;justify-content: center;background-color: white;position: relative;}#sk-container-id-2 div.sk-item::before, #sk-container-id-2 div.sk-parallel-item::before {content: \"\";position: absolute;border-left: 1px solid gray;box-sizing: border-box;top: 0;bottom: 0;left: 50%;z-index: -1;}#sk-container-id-2 div.sk-parallel-item {display: flex;flex-direction: column;z-index: 1;position: relative;background-color: white;}#sk-container-id-2 div.sk-parallel-item:first-child::after {align-self: flex-end;width: 50%;}#sk-container-id-2 div.sk-parallel-item:last-child::after {align-self: flex-start;width: 50%;}#sk-container-id-2 div.sk-parallel-item:only-child::after {width: 0;}#sk-container-id-2 div.sk-dashed-wrapped {border: 1px dashed gray;margin: 0 0.4em 0.5em 0.4em;box-sizing: border-box;padding-bottom: 0.4em;background-color: white;}#sk-container-id-2 div.sk-label label {font-family: monospace;font-weight: bold;display: inline-block;line-height: 1.2em;}#sk-container-id-2 div.sk-label-container {text-align: center;}#sk-container-id-2 div.sk-container {/* jupyter's `normalize.less` sets `[hidden] { display: none; }` but bootstrap.min.css set `[hidden] { display: none !important; }` so we also need the `!important` here to be able to override the default hidden behavior on the sphinx rendered scikit-learn.org. See: https://github.com/scikit-learn/scikit-learn/issues/21755 */display: inline-block !important;position: relative;}#sk-container-id-2 div.sk-text-repr-fallback {display: none;}</style><div id=\"sk-container-id-2\" class=\"sk-top-container\"><div class=\"sk-text-repr-fallback\"><pre>Pipeline(steps=[(&#x27;minmaxscaler&#x27;, MinMaxScaler()),\n",
       "                (&#x27;logisticregression&#x27;, LogisticRegression())])</pre><b>In a Jupyter environment, please rerun this cell to show the HTML representation or trust the notebook. <br />On GitHub, the HTML representation is unable to render, please try loading this page with nbviewer.org.</b></div><div class=\"sk-container\" hidden><div class=\"sk-item sk-dashed-wrapped\"><div class=\"sk-label-container\"><div class=\"sk-label sk-toggleable\"><input class=\"sk-toggleable__control sk-hidden--visually\" id=\"sk-estimator-id-4\" type=\"checkbox\" ><label for=\"sk-estimator-id-4\" class=\"sk-toggleable__label sk-toggleable__label-arrow\">Pipeline</label><div class=\"sk-toggleable__content\"><pre>Pipeline(steps=[(&#x27;minmaxscaler&#x27;, MinMaxScaler()),\n",
       "                (&#x27;logisticregression&#x27;, LogisticRegression())])</pre></div></div></div><div class=\"sk-serial\"><div class=\"sk-item\"><div class=\"sk-estimator sk-toggleable\"><input class=\"sk-toggleable__control sk-hidden--visually\" id=\"sk-estimator-id-5\" type=\"checkbox\" ><label for=\"sk-estimator-id-5\" class=\"sk-toggleable__label sk-toggleable__label-arrow\">MinMaxScaler</label><div class=\"sk-toggleable__content\"><pre>MinMaxScaler()</pre></div></div></div><div class=\"sk-item\"><div class=\"sk-estimator sk-toggleable\"><input class=\"sk-toggleable__control sk-hidden--visually\" id=\"sk-estimator-id-6\" type=\"checkbox\" ><label for=\"sk-estimator-id-6\" class=\"sk-toggleable__label sk-toggleable__label-arrow\">LogisticRegression</label><div class=\"sk-toggleable__content\"><pre>LogisticRegression()</pre></div></div></div></div></div></div></div>"
      ],
      "text/plain": [
       "Pipeline(steps=[('minmaxscaler', MinMaxScaler()),\n",
       "                ('logisticregression', LogisticRegression())])"
      ]
     },
     "execution_count": 31,
     "metadata": {},
     "output_type": "execute_result"
    }
   ],
   "source": [
    "pipe.fit(X1_train, y1_train)  # apply scaling on training data"
   ]
  },
  {
   "cell_type": "code",
   "execution_count": 32,
   "id": "4c9cd4b9",
   "metadata": {
    "execution": {
     "iopub.execute_input": "2024-08-23T18:18:41.668450Z",
     "iopub.status.busy": "2024-08-23T18:18:41.667947Z",
     "iopub.status.idle": "2024-08-23T18:18:41.688886Z",
     "shell.execute_reply": "2024-08-23T18:18:41.687724Z"
    },
    "papermill": {
     "duration": 0.055678,
     "end_time": "2024-08-23T18:18:41.692333",
     "exception": false,
     "start_time": "2024-08-23T18:18:41.636655",
     "status": "completed"
    },
    "tags": []
   },
   "outputs": [
    {
     "name": "stdout",
     "output_type": "stream",
     "text": [
      "Logistic Regression score with one-hot-encoding: 0.8795698924731182\n"
     ]
    }
   ],
   "source": [
    "print(f'Logistic Regression score with one-hot-encoding: {pipe.score(X1_test, y1_test)}')"
   ]
  },
  {
   "cell_type": "markdown",
   "id": "ad66f698",
   "metadata": {
    "papermill": {
     "duration": 0.028778,
     "end_time": "2024-08-23T18:18:41.750616",
     "exception": false,
     "start_time": "2024-08-23T18:18:41.721838",
     "status": "completed"
    },
    "tags": []
   },
   "source": [
    "## Random Forest Classifier"
   ]
  },
  {
   "cell_type": "code",
   "execution_count": 33,
   "id": "a53cf4c5",
   "metadata": {
    "execution": {
     "iopub.execute_input": "2024-08-23T18:18:41.806868Z",
     "iopub.status.busy": "2024-08-23T18:18:41.806466Z",
     "iopub.status.idle": "2024-08-23T18:18:42.665554Z",
     "shell.execute_reply": "2024-08-23T18:18:42.664535Z"
    },
    "papermill": {
     "duration": 0.887753,
     "end_time": "2024-08-23T18:18:42.667809",
     "exception": false,
     "start_time": "2024-08-23T18:18:41.780056",
     "status": "completed"
    },
    "tags": []
   },
   "outputs": [
    {
     "data": {
      "text/html": [
       "<style>#sk-container-id-3 {color: black;background-color: white;}#sk-container-id-3 pre{padding: 0;}#sk-container-id-3 div.sk-toggleable {background-color: white;}#sk-container-id-3 label.sk-toggleable__label {cursor: pointer;display: block;width: 100%;margin-bottom: 0;padding: 0.3em;box-sizing: border-box;text-align: center;}#sk-container-id-3 label.sk-toggleable__label-arrow:before {content: \"▸\";float: left;margin-right: 0.25em;color: #696969;}#sk-container-id-3 label.sk-toggleable__label-arrow:hover:before {color: black;}#sk-container-id-3 div.sk-estimator:hover label.sk-toggleable__label-arrow:before {color: black;}#sk-container-id-3 div.sk-toggleable__content {max-height: 0;max-width: 0;overflow: hidden;text-align: left;background-color: #f0f8ff;}#sk-container-id-3 div.sk-toggleable__content pre {margin: 0.2em;color: black;border-radius: 0.25em;background-color: #f0f8ff;}#sk-container-id-3 input.sk-toggleable__control:checked~div.sk-toggleable__content {max-height: 200px;max-width: 100%;overflow: auto;}#sk-container-id-3 input.sk-toggleable__control:checked~label.sk-toggleable__label-arrow:before {content: \"▾\";}#sk-container-id-3 div.sk-estimator input.sk-toggleable__control:checked~label.sk-toggleable__label {background-color: #d4ebff;}#sk-container-id-3 div.sk-label input.sk-toggleable__control:checked~label.sk-toggleable__label {background-color: #d4ebff;}#sk-container-id-3 input.sk-hidden--visually {border: 0;clip: rect(1px 1px 1px 1px);clip: rect(1px, 1px, 1px, 1px);height: 1px;margin: -1px;overflow: hidden;padding: 0;position: absolute;width: 1px;}#sk-container-id-3 div.sk-estimator {font-family: monospace;background-color: #f0f8ff;border: 1px dotted black;border-radius: 0.25em;box-sizing: border-box;margin-bottom: 0.5em;}#sk-container-id-3 div.sk-estimator:hover {background-color: #d4ebff;}#sk-container-id-3 div.sk-parallel-item::after {content: \"\";width: 100%;border-bottom: 1px solid gray;flex-grow: 1;}#sk-container-id-3 div.sk-label:hover label.sk-toggleable__label {background-color: #d4ebff;}#sk-container-id-3 div.sk-serial::before {content: \"\";position: absolute;border-left: 1px solid gray;box-sizing: border-box;top: 0;bottom: 0;left: 50%;z-index: 0;}#sk-container-id-3 div.sk-serial {display: flex;flex-direction: column;align-items: center;background-color: white;padding-right: 0.2em;padding-left: 0.2em;position: relative;}#sk-container-id-3 div.sk-item {position: relative;z-index: 1;}#sk-container-id-3 div.sk-parallel {display: flex;align-items: stretch;justify-content: center;background-color: white;position: relative;}#sk-container-id-3 div.sk-item::before, #sk-container-id-3 div.sk-parallel-item::before {content: \"\";position: absolute;border-left: 1px solid gray;box-sizing: border-box;top: 0;bottom: 0;left: 50%;z-index: -1;}#sk-container-id-3 div.sk-parallel-item {display: flex;flex-direction: column;z-index: 1;position: relative;background-color: white;}#sk-container-id-3 div.sk-parallel-item:first-child::after {align-self: flex-end;width: 50%;}#sk-container-id-3 div.sk-parallel-item:last-child::after {align-self: flex-start;width: 50%;}#sk-container-id-3 div.sk-parallel-item:only-child::after {width: 0;}#sk-container-id-3 div.sk-dashed-wrapped {border: 1px dashed gray;margin: 0 0.4em 0.5em 0.4em;box-sizing: border-box;padding-bottom: 0.4em;background-color: white;}#sk-container-id-3 div.sk-label label {font-family: monospace;font-weight: bold;display: inline-block;line-height: 1.2em;}#sk-container-id-3 div.sk-label-container {text-align: center;}#sk-container-id-3 div.sk-container {/* jupyter's `normalize.less` sets `[hidden] { display: none; }` but bootstrap.min.css set `[hidden] { display: none !important; }` so we also need the `!important` here to be able to override the default hidden behavior on the sphinx rendered scikit-learn.org. See: https://github.com/scikit-learn/scikit-learn/issues/21755 */display: inline-block !important;position: relative;}#sk-container-id-3 div.sk-text-repr-fallback {display: none;}</style><div id=\"sk-container-id-3\" class=\"sk-top-container\"><div class=\"sk-text-repr-fallback\"><pre>Pipeline(steps=[(&#x27;minmaxscaler&#x27;, MinMaxScaler()),\n",
       "                (&#x27;randomforestclassifier&#x27;, RandomForestClassifier())])</pre><b>In a Jupyter environment, please rerun this cell to show the HTML representation or trust the notebook. <br />On GitHub, the HTML representation is unable to render, please try loading this page with nbviewer.org.</b></div><div class=\"sk-container\" hidden><div class=\"sk-item sk-dashed-wrapped\"><div class=\"sk-label-container\"><div class=\"sk-label sk-toggleable\"><input class=\"sk-toggleable__control sk-hidden--visually\" id=\"sk-estimator-id-7\" type=\"checkbox\" ><label for=\"sk-estimator-id-7\" class=\"sk-toggleable__label sk-toggleable__label-arrow\">Pipeline</label><div class=\"sk-toggleable__content\"><pre>Pipeline(steps=[(&#x27;minmaxscaler&#x27;, MinMaxScaler()),\n",
       "                (&#x27;randomforestclassifier&#x27;, RandomForestClassifier())])</pre></div></div></div><div class=\"sk-serial\"><div class=\"sk-item\"><div class=\"sk-estimator sk-toggleable\"><input class=\"sk-toggleable__control sk-hidden--visually\" id=\"sk-estimator-id-8\" type=\"checkbox\" ><label for=\"sk-estimator-id-8\" class=\"sk-toggleable__label sk-toggleable__label-arrow\">MinMaxScaler</label><div class=\"sk-toggleable__content\"><pre>MinMaxScaler()</pre></div></div></div><div class=\"sk-item\"><div class=\"sk-estimator sk-toggleable\"><input class=\"sk-toggleable__control sk-hidden--visually\" id=\"sk-estimator-id-9\" type=\"checkbox\" ><label for=\"sk-estimator-id-9\" class=\"sk-toggleable__label sk-toggleable__label-arrow\">RandomForestClassifier</label><div class=\"sk-toggleable__content\"><pre>RandomForestClassifier()</pre></div></div></div></div></div></div></div>"
      ],
      "text/plain": [
       "Pipeline(steps=[('minmaxscaler', MinMaxScaler()),\n",
       "                ('randomforestclassifier', RandomForestClassifier())])"
      ]
     },
     "execution_count": 33,
     "metadata": {},
     "output_type": "execute_result"
    }
   ],
   "source": [
    "#Random Forest Classifier\n",
    "from sklearn.ensemble import RandomForestClassifier\n",
    "\n",
    "pipe = make_pipeline(MinMaxScaler(), RandomForestClassifier())\n",
    "pipe.fit(X_train, y_train)"
   ]
  },
  {
   "cell_type": "code",
   "execution_count": 34,
   "id": "22117a2d",
   "metadata": {
    "execution": {
     "iopub.execute_input": "2024-08-23T18:18:42.706466Z",
     "iopub.status.busy": "2024-08-23T18:18:42.705667Z",
     "iopub.status.idle": "2024-08-23T18:18:42.760969Z",
     "shell.execute_reply": "2024-08-23T18:18:42.759698Z"
    },
    "papermill": {
     "duration": 0.077401,
     "end_time": "2024-08-23T18:18:42.763456",
     "exception": false,
     "start_time": "2024-08-23T18:18:42.686055",
     "status": "completed"
    },
    "tags": []
   },
   "outputs": [
    {
     "name": "stdout",
     "output_type": "stream",
     "text": [
      "RandomForestClassifier score without one-hot-encoding: 0.7905376344086021\n"
     ]
    }
   ],
   "source": [
    "print(f'RandomForestClassifier score without one-hot-encoding: {pipe.score(X_test, y_test)}')"
   ]
  },
  {
   "cell_type": "code",
   "execution_count": 35,
   "id": "5cfb7294",
   "metadata": {
    "execution": {
     "iopub.execute_input": "2024-08-23T18:18:42.801703Z",
     "iopub.status.busy": "2024-08-23T18:18:42.801259Z",
     "iopub.status.idle": "2024-08-23T18:18:43.379103Z",
     "shell.execute_reply": "2024-08-23T18:18:43.377883Z"
    },
    "papermill": {
     "duration": 0.599496,
     "end_time": "2024-08-23T18:18:43.381579",
     "exception": false,
     "start_time": "2024-08-23T18:18:42.782083",
     "status": "completed"
    },
    "tags": []
   },
   "outputs": [
    {
     "data": {
      "text/html": [
       "<style>#sk-container-id-4 {color: black;background-color: white;}#sk-container-id-4 pre{padding: 0;}#sk-container-id-4 div.sk-toggleable {background-color: white;}#sk-container-id-4 label.sk-toggleable__label {cursor: pointer;display: block;width: 100%;margin-bottom: 0;padding: 0.3em;box-sizing: border-box;text-align: center;}#sk-container-id-4 label.sk-toggleable__label-arrow:before {content: \"▸\";float: left;margin-right: 0.25em;color: #696969;}#sk-container-id-4 label.sk-toggleable__label-arrow:hover:before {color: black;}#sk-container-id-4 div.sk-estimator:hover label.sk-toggleable__label-arrow:before {color: black;}#sk-container-id-4 div.sk-toggleable__content {max-height: 0;max-width: 0;overflow: hidden;text-align: left;background-color: #f0f8ff;}#sk-container-id-4 div.sk-toggleable__content pre {margin: 0.2em;color: black;border-radius: 0.25em;background-color: #f0f8ff;}#sk-container-id-4 input.sk-toggleable__control:checked~div.sk-toggleable__content {max-height: 200px;max-width: 100%;overflow: auto;}#sk-container-id-4 input.sk-toggleable__control:checked~label.sk-toggleable__label-arrow:before {content: \"▾\";}#sk-container-id-4 div.sk-estimator input.sk-toggleable__control:checked~label.sk-toggleable__label {background-color: #d4ebff;}#sk-container-id-4 div.sk-label input.sk-toggleable__control:checked~label.sk-toggleable__label {background-color: #d4ebff;}#sk-container-id-4 input.sk-hidden--visually {border: 0;clip: rect(1px 1px 1px 1px);clip: rect(1px, 1px, 1px, 1px);height: 1px;margin: -1px;overflow: hidden;padding: 0;position: absolute;width: 1px;}#sk-container-id-4 div.sk-estimator {font-family: monospace;background-color: #f0f8ff;border: 1px dotted black;border-radius: 0.25em;box-sizing: border-box;margin-bottom: 0.5em;}#sk-container-id-4 div.sk-estimator:hover {background-color: #d4ebff;}#sk-container-id-4 div.sk-parallel-item::after {content: \"\";width: 100%;border-bottom: 1px solid gray;flex-grow: 1;}#sk-container-id-4 div.sk-label:hover label.sk-toggleable__label {background-color: #d4ebff;}#sk-container-id-4 div.sk-serial::before {content: \"\";position: absolute;border-left: 1px solid gray;box-sizing: border-box;top: 0;bottom: 0;left: 50%;z-index: 0;}#sk-container-id-4 div.sk-serial {display: flex;flex-direction: column;align-items: center;background-color: white;padding-right: 0.2em;padding-left: 0.2em;position: relative;}#sk-container-id-4 div.sk-item {position: relative;z-index: 1;}#sk-container-id-4 div.sk-parallel {display: flex;align-items: stretch;justify-content: center;background-color: white;position: relative;}#sk-container-id-4 div.sk-item::before, #sk-container-id-4 div.sk-parallel-item::before {content: \"\";position: absolute;border-left: 1px solid gray;box-sizing: border-box;top: 0;bottom: 0;left: 50%;z-index: -1;}#sk-container-id-4 div.sk-parallel-item {display: flex;flex-direction: column;z-index: 1;position: relative;background-color: white;}#sk-container-id-4 div.sk-parallel-item:first-child::after {align-self: flex-end;width: 50%;}#sk-container-id-4 div.sk-parallel-item:last-child::after {align-self: flex-start;width: 50%;}#sk-container-id-4 div.sk-parallel-item:only-child::after {width: 0;}#sk-container-id-4 div.sk-dashed-wrapped {border: 1px dashed gray;margin: 0 0.4em 0.5em 0.4em;box-sizing: border-box;padding-bottom: 0.4em;background-color: white;}#sk-container-id-4 div.sk-label label {font-family: monospace;font-weight: bold;display: inline-block;line-height: 1.2em;}#sk-container-id-4 div.sk-label-container {text-align: center;}#sk-container-id-4 div.sk-container {/* jupyter's `normalize.less` sets `[hidden] { display: none; }` but bootstrap.min.css set `[hidden] { display: none !important; }` so we also need the `!important` here to be able to override the default hidden behavior on the sphinx rendered scikit-learn.org. See: https://github.com/scikit-learn/scikit-learn/issues/21755 */display: inline-block !important;position: relative;}#sk-container-id-4 div.sk-text-repr-fallback {display: none;}</style><div id=\"sk-container-id-4\" class=\"sk-top-container\"><div class=\"sk-text-repr-fallback\"><pre>Pipeline(steps=[(&#x27;minmaxscaler&#x27;, MinMaxScaler()),\n",
       "                (&#x27;randomforestclassifier&#x27;, RandomForestClassifier())])</pre><b>In a Jupyter environment, please rerun this cell to show the HTML representation or trust the notebook. <br />On GitHub, the HTML representation is unable to render, please try loading this page with nbviewer.org.</b></div><div class=\"sk-container\" hidden><div class=\"sk-item sk-dashed-wrapped\"><div class=\"sk-label-container\"><div class=\"sk-label sk-toggleable\"><input class=\"sk-toggleable__control sk-hidden--visually\" id=\"sk-estimator-id-10\" type=\"checkbox\" ><label for=\"sk-estimator-id-10\" class=\"sk-toggleable__label sk-toggleable__label-arrow\">Pipeline</label><div class=\"sk-toggleable__content\"><pre>Pipeline(steps=[(&#x27;minmaxscaler&#x27;, MinMaxScaler()),\n",
       "                (&#x27;randomforestclassifier&#x27;, RandomForestClassifier())])</pre></div></div></div><div class=\"sk-serial\"><div class=\"sk-item\"><div class=\"sk-estimator sk-toggleable\"><input class=\"sk-toggleable__control sk-hidden--visually\" id=\"sk-estimator-id-11\" type=\"checkbox\" ><label for=\"sk-estimator-id-11\" class=\"sk-toggleable__label sk-toggleable__label-arrow\">MinMaxScaler</label><div class=\"sk-toggleable__content\"><pre>MinMaxScaler()</pre></div></div></div><div class=\"sk-item\"><div class=\"sk-estimator sk-toggleable\"><input class=\"sk-toggleable__control sk-hidden--visually\" id=\"sk-estimator-id-12\" type=\"checkbox\" ><label for=\"sk-estimator-id-12\" class=\"sk-toggleable__label sk-toggleable__label-arrow\">RandomForestClassifier</label><div class=\"sk-toggleable__content\"><pre>RandomForestClassifier()</pre></div></div></div></div></div></div></div>"
      ],
      "text/plain": [
       "Pipeline(steps=[('minmaxscaler', MinMaxScaler()),\n",
       "                ('randomforestclassifier', RandomForestClassifier())])"
      ]
     },
     "execution_count": 35,
     "metadata": {},
     "output_type": "execute_result"
    }
   ],
   "source": [
    "pipe.fit(X1_train, y1_train)"
   ]
  },
  {
   "cell_type": "code",
   "execution_count": 36,
   "id": "8c4ba4ba",
   "metadata": {
    "execution": {
     "iopub.execute_input": "2024-08-23T18:18:43.422071Z",
     "iopub.status.busy": "2024-08-23T18:18:43.421691Z",
     "iopub.status.idle": "2024-08-23T18:18:43.472990Z",
     "shell.execute_reply": "2024-08-23T18:18:43.471745Z"
    },
    "papermill": {
     "duration": 0.075054,
     "end_time": "2024-08-23T18:18:43.475276",
     "exception": false,
     "start_time": "2024-08-23T18:18:43.400222",
     "status": "completed"
    },
    "tags": []
   },
   "outputs": [
    {
     "name": "stdout",
     "output_type": "stream",
     "text": [
      "RandomForestClassifier score with one-hot-encoding: 0.8688172043010752\n"
     ]
    }
   ],
   "source": [
    "print(f'RandomForestClassifier score with one-hot-encoding: {pipe.score(X1_test, y1_test)}')"
   ]
  },
  {
   "cell_type": "code",
   "execution_count": 37,
   "id": "5b555275",
   "metadata": {
    "execution": {
     "iopub.execute_input": "2024-08-23T18:18:43.514524Z",
     "iopub.status.busy": "2024-08-23T18:18:43.514128Z",
     "iopub.status.idle": "2024-08-23T18:18:43.520812Z",
     "shell.execute_reply": "2024-08-23T18:18:43.519825Z"
    },
    "papermill": {
     "duration": 0.028583,
     "end_time": "2024-08-23T18:18:43.522945",
     "exception": false,
     "start_time": "2024-08-23T18:18:43.494362",
     "status": "completed"
    },
    "tags": []
   },
   "outputs": [
    {
     "data": {
      "text/plain": [
       "23"
      ]
     },
     "execution_count": 37,
     "metadata": {},
     "output_type": "execute_result"
    }
   ],
   "source": [
    "len(X1_train.columns)"
   ]
  },
  {
   "cell_type": "markdown",
   "id": "c72b58b9",
   "metadata": {
    "papermill": {
     "duration": 0.018718,
     "end_time": "2024-08-23T18:18:43.560066",
     "exception": false,
     "start_time": "2024-08-23T18:18:43.541348",
     "status": "completed"
    },
    "tags": []
   },
   "source": [
    "## Artificial Neural Network"
   ]
  },
  {
   "cell_type": "code",
   "execution_count": 38,
   "id": "356f30eb",
   "metadata": {
    "execution": {
     "iopub.execute_input": "2024-08-23T18:18:43.598670Z",
     "iopub.status.busy": "2024-08-23T18:18:43.598246Z",
     "iopub.status.idle": "2024-08-23T18:18:57.264817Z",
     "shell.execute_reply": "2024-08-23T18:18:57.263657Z"
    },
    "papermill": {
     "duration": 13.6889,
     "end_time": "2024-08-23T18:18:57.267573",
     "exception": false,
     "start_time": "2024-08-23T18:18:43.578673",
     "status": "completed"
    },
    "tags": []
   },
   "outputs": [
    {
     "name": "stderr",
     "output_type": "stream",
     "text": [
      "2024-08-23 18:18:45.775239: E external/local_xla/xla/stream_executor/cuda/cuda_dnn.cc:9261] Unable to register cuDNN factory: Attempting to register factory for plugin cuDNN when one has already been registered\n",
      "2024-08-23 18:18:45.775355: E external/local_xla/xla/stream_executor/cuda/cuda_fft.cc:607] Unable to register cuFFT factory: Attempting to register factory for plugin cuFFT when one has already been registered\n",
      "2024-08-23 18:18:45.925526: E external/local_xla/xla/stream_executor/cuda/cuda_blas.cc:1515] Unable to register cuBLAS factory: Attempting to register factory for plugin cuBLAS when one has already been registered\n"
     ]
    }
   ],
   "source": [
    "#ANN, working with one-hot encoded data i.e. df1\n",
    "import tensorflow as tf\n",
    "from tensorflow import keras\n",
    "\n",
    "model = keras.Sequential([\n",
    "    keras.layers.Input(shape=(23,)),\n",
    "    keras.layers.Dense(20, activation='relu'),\n",
    "    keras.layers.Dense(20, activation='relu'),\n",
    "    keras.layers.Dense(1, activation='sigmoid')\n",
    "])"
   ]
  },
  {
   "cell_type": "code",
   "execution_count": 39,
   "id": "0ed9432c",
   "metadata": {
    "execution": {
     "iopub.execute_input": "2024-08-23T18:18:57.307276Z",
     "iopub.status.busy": "2024-08-23T18:18:57.306169Z",
     "iopub.status.idle": "2024-08-23T18:18:57.325748Z",
     "shell.execute_reply": "2024-08-23T18:18:57.324719Z"
    },
    "papermill": {
     "duration": 0.041652,
     "end_time": "2024-08-23T18:18:57.327999",
     "exception": false,
     "start_time": "2024-08-23T18:18:57.286347",
     "status": "completed"
    },
    "tags": []
   },
   "outputs": [
    {
     "data": {
      "text/html": [
       "<pre style=\"white-space:pre;overflow-x:auto;line-height:normal;font-family:Menlo,'DejaVu Sans Mono',consolas,'Courier New',monospace\"><span style=\"font-weight: bold\">Model: \"sequential\"</span>\n",
       "</pre>\n"
      ],
      "text/plain": [
       "\u001b[1mModel: \"sequential\"\u001b[0m\n"
      ]
     },
     "metadata": {},
     "output_type": "display_data"
    },
    {
     "data": {
      "text/html": [
       "<pre style=\"white-space:pre;overflow-x:auto;line-height:normal;font-family:Menlo,'DejaVu Sans Mono',consolas,'Courier New',monospace\">┏━━━━━━━━━━━━━━━━━━━━━━━━━━━━━━━━━┳━━━━━━━━━━━━━━━━━━━━━━━━┳━━━━━━━━━━━━━━━┓\n",
       "┃<span style=\"font-weight: bold\"> Layer (type)                    </span>┃<span style=\"font-weight: bold\"> Output Shape           </span>┃<span style=\"font-weight: bold\">       Param # </span>┃\n",
       "┡━━━━━━━━━━━━━━━━━━━━━━━━━━━━━━━━━╇━━━━━━━━━━━━━━━━━━━━━━━━╇━━━━━━━━━━━━━━━┩\n",
       "│ dense (<span style=\"color: #0087ff; text-decoration-color: #0087ff\">Dense</span>)                   │ (<span style=\"color: #00d7ff; text-decoration-color: #00d7ff\">None</span>, <span style=\"color: #00af00; text-decoration-color: #00af00\">20</span>)             │           <span style=\"color: #00af00; text-decoration-color: #00af00\">480</span> │\n",
       "├─────────────────────────────────┼────────────────────────┼───────────────┤\n",
       "│ dense_1 (<span style=\"color: #0087ff; text-decoration-color: #0087ff\">Dense</span>)                 │ (<span style=\"color: #00d7ff; text-decoration-color: #00d7ff\">None</span>, <span style=\"color: #00af00; text-decoration-color: #00af00\">20</span>)             │           <span style=\"color: #00af00; text-decoration-color: #00af00\">420</span> │\n",
       "├─────────────────────────────────┼────────────────────────┼───────────────┤\n",
       "│ dense_2 (<span style=\"color: #0087ff; text-decoration-color: #0087ff\">Dense</span>)                 │ (<span style=\"color: #00d7ff; text-decoration-color: #00d7ff\">None</span>, <span style=\"color: #00af00; text-decoration-color: #00af00\">1</span>)              │            <span style=\"color: #00af00; text-decoration-color: #00af00\">21</span> │\n",
       "└─────────────────────────────────┴────────────────────────┴───────────────┘\n",
       "</pre>\n"
      ],
      "text/plain": [
       "┏━━━━━━━━━━━━━━━━━━━━━━━━━━━━━━━━━┳━━━━━━━━━━━━━━━━━━━━━━━━┳━━━━━━━━━━━━━━━┓\n",
       "┃\u001b[1m \u001b[0m\u001b[1mLayer (type)                   \u001b[0m\u001b[1m \u001b[0m┃\u001b[1m \u001b[0m\u001b[1mOutput Shape          \u001b[0m\u001b[1m \u001b[0m┃\u001b[1m \u001b[0m\u001b[1m      Param #\u001b[0m\u001b[1m \u001b[0m┃\n",
       "┡━━━━━━━━━━━━━━━━━━━━━━━━━━━━━━━━━╇━━━━━━━━━━━━━━━━━━━━━━━━╇━━━━━━━━━━━━━━━┩\n",
       "│ dense (\u001b[38;5;33mDense\u001b[0m)                   │ (\u001b[38;5;45mNone\u001b[0m, \u001b[38;5;34m20\u001b[0m)             │           \u001b[38;5;34m480\u001b[0m │\n",
       "├─────────────────────────────────┼────────────────────────┼───────────────┤\n",
       "│ dense_1 (\u001b[38;5;33mDense\u001b[0m)                 │ (\u001b[38;5;45mNone\u001b[0m, \u001b[38;5;34m20\u001b[0m)             │           \u001b[38;5;34m420\u001b[0m │\n",
       "├─────────────────────────────────┼────────────────────────┼───────────────┤\n",
       "│ dense_2 (\u001b[38;5;33mDense\u001b[0m)                 │ (\u001b[38;5;45mNone\u001b[0m, \u001b[38;5;34m1\u001b[0m)              │            \u001b[38;5;34m21\u001b[0m │\n",
       "└─────────────────────────────────┴────────────────────────┴───────────────┘\n"
      ]
     },
     "metadata": {},
     "output_type": "display_data"
    },
    {
     "data": {
      "text/html": [
       "<pre style=\"white-space:pre;overflow-x:auto;line-height:normal;font-family:Menlo,'DejaVu Sans Mono',consolas,'Courier New',monospace\"><span style=\"font-weight: bold\"> Total params: </span><span style=\"color: #00af00; text-decoration-color: #00af00\">921</span> (3.60 KB)\n",
       "</pre>\n"
      ],
      "text/plain": [
       "\u001b[1m Total params: \u001b[0m\u001b[38;5;34m921\u001b[0m (3.60 KB)\n"
      ]
     },
     "metadata": {},
     "output_type": "display_data"
    },
    {
     "data": {
      "text/html": [
       "<pre style=\"white-space:pre;overflow-x:auto;line-height:normal;font-family:Menlo,'DejaVu Sans Mono',consolas,'Courier New',monospace\"><span style=\"font-weight: bold\"> Trainable params: </span><span style=\"color: #00af00; text-decoration-color: #00af00\">921</span> (3.60 KB)\n",
       "</pre>\n"
      ],
      "text/plain": [
       "\u001b[1m Trainable params: \u001b[0m\u001b[38;5;34m921\u001b[0m (3.60 KB)\n"
      ]
     },
     "metadata": {},
     "output_type": "display_data"
    },
    {
     "data": {
      "text/html": [
       "<pre style=\"white-space:pre;overflow-x:auto;line-height:normal;font-family:Menlo,'DejaVu Sans Mono',consolas,'Courier New',monospace\"><span style=\"font-weight: bold\"> Non-trainable params: </span><span style=\"color: #00af00; text-decoration-color: #00af00\">0</span> (0.00 B)\n",
       "</pre>\n"
      ],
      "text/plain": [
       "\u001b[1m Non-trainable params: \u001b[0m\u001b[38;5;34m0\u001b[0m (0.00 B)\n"
      ]
     },
     "metadata": {},
     "output_type": "display_data"
    }
   ],
   "source": [
    "model.summary()"
   ]
  },
  {
   "cell_type": "code",
   "execution_count": 40,
   "id": "a5d559e7",
   "metadata": {
    "execution": {
     "iopub.execute_input": "2024-08-23T18:18:57.368771Z",
     "iopub.status.busy": "2024-08-23T18:18:57.368360Z",
     "iopub.status.idle": "2024-08-23T18:18:57.384123Z",
     "shell.execute_reply": "2024-08-23T18:18:57.382990Z"
    },
    "papermill": {
     "duration": 0.03893,
     "end_time": "2024-08-23T18:18:57.386749",
     "exception": false,
     "start_time": "2024-08-23T18:18:57.347819",
     "status": "completed"
    },
    "tags": []
   },
   "outputs": [],
   "source": [
    "model.compile(optimizer='adam', \n",
    "              loss='binary_crossentropy', \n",
    "              metrics=['accuracy']\n",
    "             )"
   ]
  },
  {
   "cell_type": "code",
   "execution_count": 41,
   "id": "ded95a8c",
   "metadata": {
    "execution": {
     "iopub.execute_input": "2024-08-23T18:18:57.428315Z",
     "iopub.status.busy": "2024-08-23T18:18:57.427920Z",
     "iopub.status.idle": "2024-08-23T18:18:57.433125Z",
     "shell.execute_reply": "2024-08-23T18:18:57.431928Z"
    },
    "papermill": {
     "duration": 0.02876,
     "end_time": "2024-08-23T18:18:57.435298",
     "exception": false,
     "start_time": "2024-08-23T18:18:57.406538",
     "status": "completed"
    },
    "tags": []
   },
   "outputs": [],
   "source": [
    "callbacks = [\n",
    "    tf.keras.callbacks.EarlyStopping(patience=2, monitor='accuracy')\n",
    "]"
   ]
  },
  {
   "cell_type": "code",
   "execution_count": 42,
   "id": "b85dcb6f",
   "metadata": {
    "execution": {
     "iopub.execute_input": "2024-08-23T18:18:57.476986Z",
     "iopub.status.busy": "2024-08-23T18:18:57.475528Z",
     "iopub.status.idle": "2024-08-23T18:19:01.274813Z",
     "shell.execute_reply": "2024-08-23T18:19:01.273518Z"
    },
    "papermill": {
     "duration": 3.822861,
     "end_time": "2024-08-23T18:19:01.277632",
     "exception": false,
     "start_time": "2024-08-23T18:18:57.454771",
     "status": "completed"
    },
    "tags": []
   },
   "outputs": [
    {
     "name": "stdout",
     "output_type": "stream",
     "text": [
      "Epoch 1/10\n",
      "\u001b[1m148/148\u001b[0m \u001b[32m━━━━━━━━━━━━━━━━━━━━\u001b[0m\u001b[37m\u001b[0m \u001b[1m1s\u001b[0m 1ms/step - accuracy: 0.5680 - loss: 48.6535\n",
      "Epoch 2/10\n",
      "\u001b[1m148/148\u001b[0m \u001b[32m━━━━━━━━━━━━━━━━━━━━\u001b[0m\u001b[37m\u001b[0m \u001b[1m0s\u001b[0m 1ms/step - accuracy: 0.7334 - loss: 0.6398\n",
      "Epoch 3/10\n",
      "\u001b[1m148/148\u001b[0m \u001b[32m━━━━━━━━━━━━━━━━━━━━\u001b[0m\u001b[37m\u001b[0m \u001b[1m0s\u001b[0m 1ms/step - accuracy: 0.7560 - loss: 0.6242\n",
      "Epoch 4/10\n",
      "\u001b[1m148/148\u001b[0m \u001b[32m━━━━━━━━━━━━━━━━━━━━\u001b[0m\u001b[37m\u001b[0m \u001b[1m0s\u001b[0m 1ms/step - accuracy: 0.7542 - loss: 0.6088\n",
      "Epoch 5/10\n",
      "\u001b[1m148/148\u001b[0m \u001b[32m━━━━━━━━━━━━━━━━━━━━\u001b[0m\u001b[37m\u001b[0m \u001b[1m0s\u001b[0m 1ms/step - accuracy: 0.7668 - loss: 0.7306\n",
      "Epoch 6/10\n",
      "\u001b[1m148/148\u001b[0m \u001b[32m━━━━━━━━━━━━━━━━━━━━\u001b[0m\u001b[37m\u001b[0m \u001b[1m0s\u001b[0m 1ms/step - accuracy: 0.7893 - loss: 0.5977\n",
      "Epoch 7/10\n",
      "\u001b[1m148/148\u001b[0m \u001b[32m━━━━━━━━━━━━━━━━━━━━\u001b[0m\u001b[37m\u001b[0m \u001b[1m0s\u001b[0m 1ms/step - accuracy: 0.7964 - loss: 0.7366\n",
      "Epoch 8/10\n",
      "\u001b[1m148/148\u001b[0m \u001b[32m━━━━━━━━━━━━━━━━━━━━\u001b[0m\u001b[37m\u001b[0m \u001b[1m0s\u001b[0m 2ms/step - accuracy: 0.8185 - loss: 0.5101\n",
      "Epoch 9/10\n",
      "\u001b[1m148/148\u001b[0m \u001b[32m━━━━━━━━━━━━━━━━━━━━\u001b[0m\u001b[37m\u001b[0m \u001b[1m0s\u001b[0m 2ms/step - accuracy: 0.8374 - loss: 0.4345\n",
      "Epoch 10/10\n",
      "\u001b[1m148/148\u001b[0m \u001b[32m━━━━━━━━━━━━━━━━━━━━\u001b[0m\u001b[37m\u001b[0m \u001b[1m0s\u001b[0m 1ms/step - accuracy: 0.8298 - loss: 0.4703\n"
     ]
    }
   ],
   "source": [
    "results = model.fit(X1_train, y1_train, epochs=10)"
   ]
  },
  {
   "cell_type": "code",
   "execution_count": 43,
   "id": "c0ab1666",
   "metadata": {
    "execution": {
     "iopub.execute_input": "2024-08-23T18:19:01.327266Z",
     "iopub.status.busy": "2024-08-23T18:19:01.326810Z",
     "iopub.status.idle": "2024-08-23T18:19:01.628843Z",
     "shell.execute_reply": "2024-08-23T18:19:01.627575Z"
    },
    "papermill": {
     "duration": 0.330667,
     "end_time": "2024-08-23T18:19:01.632085",
     "exception": false,
     "start_time": "2024-08-23T18:19:01.301418",
     "status": "completed"
    },
    "tags": []
   },
   "outputs": [
    {
     "name": "stdout",
     "output_type": "stream",
     "text": [
      "\u001b[1m73/73\u001b[0m \u001b[32m━━━━━━━━━━━━━━━━━━━━\u001b[0m\u001b[37m\u001b[0m \u001b[1m0s\u001b[0m 1ms/step - accuracy: 0.8640 - loss: 0.3751\n"
     ]
    },
    {
     "data": {
      "text/plain": [
       "[0.40443411469459534, 0.8511828184127808]"
      ]
     },
     "execution_count": 43,
     "metadata": {},
     "output_type": "execute_result"
    }
   ],
   "source": [
    "model.evaluate(X1_test, y1_test)\n"
   ]
  },
  {
   "cell_type": "code",
   "execution_count": 44,
   "id": "5d042d2e",
   "metadata": {
    "execution": {
     "iopub.execute_input": "2024-08-23T18:19:01.687934Z",
     "iopub.status.busy": "2024-08-23T18:19:01.687347Z",
     "iopub.status.idle": "2024-08-23T18:19:01.974261Z",
     "shell.execute_reply": "2024-08-23T18:19:01.973019Z"
    },
    "papermill": {
     "duration": 0.315268,
     "end_time": "2024-08-23T18:19:01.977058",
     "exception": false,
     "start_time": "2024-08-23T18:19:01.661790",
     "status": "completed"
    },
    "tags": []
   },
   "outputs": [
    {
     "name": "stdout",
     "output_type": "stream",
     "text": [
      "\u001b[1m73/73\u001b[0m \u001b[32m━━━━━━━━━━━━━━━━━━━━\u001b[0m\u001b[37m\u001b[0m \u001b[1m0s\u001b[0m 2ms/step\n",
      "[[2.8267199e-01]\n",
      " [1.9675026e-04]\n",
      " [1.4229283e-01]\n",
      " [7.1880430e-01]]\n",
      "[0, 0, 0, 1]\n",
      "2200    False\n",
      "4627    False\n",
      "3225    False\n",
      "2828     True\n",
      "Name: PaymentMethod_Mailed check, dtype: bool\n"
     ]
    }
   ],
   "source": [
    "y_pred = model.predict(X1_test)\n",
    "predicted_labels = []\n",
    "for ele in y_pred:\n",
    "    if ele > 0.5:\n",
    "        predicted_labels.append(1)\n",
    "    else:\n",
    "        predicted_labels.append(0)\n",
    "print(y_pred[:4])\n",
    "print(predicted_labels[:4])\n",
    "print(y1_test[:4])"
   ]
  },
  {
   "cell_type": "code",
   "execution_count": 45,
   "id": "5bd327db",
   "metadata": {
    "execution": {
     "iopub.execute_input": "2024-08-23T18:19:02.027587Z",
     "iopub.status.busy": "2024-08-23T18:19:02.027157Z",
     "iopub.status.idle": "2024-08-23T18:19:02.034821Z",
     "shell.execute_reply": "2024-08-23T18:19:02.033615Z"
    },
    "papermill": {
     "duration": 0.035283,
     "end_time": "2024-08-23T18:19:02.037005",
     "exception": false,
     "start_time": "2024-08-23T18:19:02.001722",
     "status": "completed"
    },
    "tags": []
   },
   "outputs": [
    {
     "data": {
      "text/plain": [
       "array([0, 0, 0, 1])"
      ]
     },
     "execution_count": 45,
     "metadata": {},
     "output_type": "execute_result"
    }
   ],
   "source": [
    "y1_test = np.array(y1_test.astype(int))\n",
    "y1_test[:4]"
   ]
  },
  {
   "cell_type": "code",
   "execution_count": 46,
   "id": "59e95558",
   "metadata": {
    "execution": {
     "iopub.execute_input": "2024-08-23T18:19:02.088351Z",
     "iopub.status.busy": "2024-08-23T18:19:02.087968Z",
     "iopub.status.idle": "2024-08-23T18:19:02.105461Z",
     "shell.execute_reply": "2024-08-23T18:19:02.104349Z"
    },
    "papermill": {
     "duration": 0.046203,
     "end_time": "2024-08-23T18:19:02.108282",
     "exception": false,
     "start_time": "2024-08-23T18:19:02.062079",
     "status": "completed"
    },
    "tags": []
   },
   "outputs": [
    {
     "name": "stdout",
     "output_type": "stream",
     "text": [
      "              precision    recall  f1-score   support\n",
      "\n",
      "           0       0.86      0.96      0.91      1796\n",
      "           1       0.79      0.47      0.59       529\n",
      "\n",
      "    accuracy                           0.85      2325\n",
      "   macro avg       0.83      0.72      0.75      2325\n",
      "weighted avg       0.84      0.85      0.84      2325\n",
      "\n"
     ]
    }
   ],
   "source": [
    "from sklearn.metrics import confusion_matrix, classification_report\n",
    "\n",
    "print(classification_report(y1_test, predicted_labels))"
   ]
  },
  {
   "cell_type": "code",
   "execution_count": 47,
   "id": "a646f66f",
   "metadata": {
    "execution": {
     "iopub.execute_input": "2024-08-23T18:19:02.159407Z",
     "iopub.status.busy": "2024-08-23T18:19:02.158666Z",
     "iopub.status.idle": "2024-08-23T18:19:02.779516Z",
     "shell.execute_reply": "2024-08-23T18:19:02.778318Z"
    },
    "papermill": {
     "duration": 0.648841,
     "end_time": "2024-08-23T18:19:02.781798",
     "exception": false,
     "start_time": "2024-08-23T18:19:02.132957",
     "status": "completed"
    },
    "tags": []
   },
   "outputs": [
    {
     "data": {
      "text/plain": [
       "Text(95.72222222222221, 0.5, 'Truth')"
      ]
     },
     "execution_count": 47,
     "metadata": {},
     "output_type": "execute_result"
    },
    {
     "data": {
      "image/png": "[encoded data removed]",
      "text/plain": [
       "<Figure size 1000x700 with 2 Axes>"
      ]
     },
     "metadata": {},
     "output_type": "display_data"
    }
   ],
   "source": [
    "import seaborn as sn\n",
    "cm = confusion_matrix(y1_test, predicted_labels)\n",
    "plt.figure(figsize=(10, 7))\n",
    "sn.heatmap(cm, annot=True, fmt='d')\n",
    "plt.xlabel('Predicted')\n",
    "plt.ylabel('Truth')"
   ]
  },
  {
   "cell_type": "code",
   "execution_count": null,
   "id": "03d7a071",
   "metadata": {
    "papermill": {
     "duration": 0.025839,
     "end_time": "2024-08-23T18:19:02.832888",
     "exception": false,
     "start_time": "2024-08-23T18:19:02.807049",
     "status": "completed"
    },
    "tags": []
   },
   "outputs": [],
   "source": []
  }
 ],
 "metadata": {
  "kaggle": {
   "accelerator": "none",
   "dataSources": [
    {
     "datasetId": 13996,
     "sourceId": 18858,
     "sourceType": "datasetVersion"
    }
   ],
   "dockerImageVersionId": 30746,
   "isGpuEnabled": false,
   "isInternetEnabled": true,
   "language": "python",
   "sourceType": "notebook"
  },
  "kernelspec": {
   "display_name": "Python 3",
   "language": "python",
   "name": "python3"
  },
  "language_info": {
   "codemirror_mode": {
    "name": "ipython",
    "version": 3
   },
   "file_extension": ".py",
   "mimetype": "text/x-python",
   "name": "python",
   "nbconvert_exporter": "python",
   "pygments_lexer": "ipython3",
   "version": "3.10.13"
  },
  "papermill": {
   "default_parameters": {},
   "duration": 32.557885,
   "end_time": "2024-08-23T18:19:05.568961",
   "environment_variables": {},
   "exception": null,
   "input_path": "__notebook__.ipynb",
   "output_path": "__notebook__.ipynb",
   "parameters": {},
   "start_time": "2024-08-23T18:18:33.011076",
   "version": "2.5.0"
  }
 },
 "nbformat": 4,
 "nbformat_minor": 5
}
